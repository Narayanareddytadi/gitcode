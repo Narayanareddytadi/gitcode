{
 "cells": [
  {
   "cell_type": "code",
   "execution_count": 1,
   "metadata": {},
   "outputs": [],
   "source": [
    "import numpy as np\n",
    "import matplotlib.pyplot as plt\n",
    "from sklearn.datasets import make_blobs"
   ]
  },
  {
   "cell_type": "code",
   "execution_count": 15,
   "metadata": {},
   "outputs": [],
   "source": [
    "dataset=make_blobs(n_samples=200,centers=4,n_features=3,cluster_std=1.6,random_state=50)"
   ]
  },
  {
   "cell_type": "code",
   "execution_count": 16,
   "metadata": {},
   "outputs": [
    {
     "name": "stdout",
     "output_type": "stream",
     "text": [
      "(array([[ -4.68769512,  -2.46320526,  -5.77585819],\n",
      "       [ -2.91753295,  -5.68749351,  -2.81937966],\n",
      "       [ -5.88412701,   4.35369918,   3.92779107],\n",
      "       [ -0.61484416,   4.99567863,   5.10059041],\n",
      "       [ -2.1958466 ,   5.78225845,   7.22286707],\n",
      "       [ -6.55495773,  -2.42294671,   7.86565234],\n",
      "       [ -4.14059724,   7.17163993,   4.95954613],\n",
      "       [ -3.85083822,  -4.6503517 ,  -2.20668926],\n",
      "       [  0.71126224,  -0.71048394,  11.88695777],\n",
      "       [  0.4527221 ,  -5.52241917,  -5.90537126],\n",
      "       [ -1.98241392,  -5.56741301,   7.76795802],\n",
      "       [ -5.20505074,  -2.01321069,  -2.2854848 ],\n",
      "       [  0.73153164,  -4.13327311,  -4.80811224],\n",
      "       [ -6.26078366,  -1.54681619,  -1.3367414 ],\n",
      "       [ -1.45732555,   3.97788937,   6.15775847],\n",
      "       [ -0.50120976,  -3.66534438,  -4.8281089 ],\n",
      "       [ -2.17672355,  -2.59024036,  12.76618484],\n",
      "       [ -4.05887468,  -0.11869712,  10.49502599],\n",
      "       [ -0.91248425,  -2.78582034,   9.70145809],\n",
      "       [  0.68241664,  -3.08473524,  -5.82271268],\n",
      "       [ -5.00487628,  -2.46560026,  -3.4033452 ],\n",
      "       [ -2.32690634,  -1.79945313,  11.1493699 ],\n",
      "       [ -1.94204625,  -2.35077391,   8.44280325],\n",
      "       [ -1.43135762,  -2.81231592,  13.65384875],\n",
      "       [ -1.99724098,   5.17948712,   6.37594272],\n",
      "       [ -0.27447909,  -2.76847604,   8.5232032 ],\n",
      "       [ -4.31469054,  -1.47195093,  -3.75868424],\n",
      "       [ -3.13978783,   7.73510002,   4.46428573],\n",
      "       [ -1.86803053,  -5.48312801,  -5.91551686],\n",
      "       [ -3.31359603,  -1.06705283,   9.24306355],\n",
      "       [ -0.72054412,  -0.61706335,  10.41010882],\n",
      "       [ -3.29295114,  -3.84912954,  -5.14163424],\n",
      "       [ -5.19166404,  -1.96389337,  -2.3504293 ],\n",
      "       [ -1.31925568,  -4.7843415 ,  10.83438402],\n",
      "       [ -4.10650886,  -1.75136566,  10.17986216],\n",
      "       [ -0.64327139,  -7.03437961,  -2.33226825],\n",
      "       [ -3.31278717,  -0.41828269,  -2.12024985],\n",
      "       [  0.7287972 ,   6.06528632,   4.13870995],\n",
      "       [ -2.01549497,   7.28532695,   5.2352051 ],\n",
      "       [ -2.71087464,  -3.00561123,   7.64001791],\n",
      "       [ -5.30326572,  -0.27845594,  -2.1638539 ],\n",
      "       [ -4.47729987,  -3.79453288,  -4.79695649],\n",
      "       [ -1.60039163,  -2.65375427,  10.70307466],\n",
      "       [ -2.92125796,   4.18843606,   5.99446866],\n",
      "       [ -2.96224804,  -2.89522086,  11.02223536],\n",
      "       [ -4.80677275,  -4.68321786,  -2.1874671 ],\n",
      "       [ -3.66662124,  -2.36915211,  -6.87280014],\n",
      "       [ -2.75384181,   5.60538827,   4.44154861],\n",
      "       [  2.08928278,  -6.43740537,  -4.28931513],\n",
      "       [ -3.59599549,  -4.68648049,  -5.37573047],\n",
      "       [  4.2204409 ,  -7.82455952,  -4.73695683],\n",
      "       [ -1.44884409,   3.75963327,   4.59393805],\n",
      "       [ -6.35606011,  -5.22311257,  -3.82919215],\n",
      "       [ -1.04854172,  -1.10000365,  11.01307627],\n",
      "       [ -2.90294159,   3.70453443,   3.7500523 ],\n",
      "       [ -1.16108858,   5.03040454,   5.52941277],\n",
      "       [ -0.0995387 ,  -4.05205812,  -5.74737845],\n",
      "       [ -4.67081223,  -1.93912026,  -3.59519989],\n",
      "       [ -2.22556741,  -0.49169367,  -3.71513772],\n",
      "       [  1.24964744,  -8.1740906 ,  -7.42439204],\n",
      "       [ -1.5110266 ,  -5.43579113,  -5.77938733],\n",
      "       [ -0.36285347,  -4.18400282,  -6.83622921],\n",
      "       [ -3.84370265,  -4.27501504,  10.83594686],\n",
      "       [ -0.34072923,   5.72252744,   3.7966703 ],\n",
      "       [ -0.96117202,  -2.32373115,  -2.39342857],\n",
      "       [ -1.47838268,   4.02156675,   4.49585501],\n",
      "       [ -2.51786995,  -8.10450138,  -5.24091321],\n",
      "       [ -1.25884099,  -4.27270129,  -2.29572875],\n",
      "       [ -2.91449176,   1.88573297,   9.80686047],\n",
      "       [  0.3487839 ,  -5.8883571 ,  -2.15306982],\n",
      "       [ -3.42504886,  -3.57924246,  -2.87608563],\n",
      "       [ -0.99849273,  -6.5867429 ,  -5.41232378],\n",
      "       [ -4.35205836,  -4.06335309,   7.37700539],\n",
      "       [ -0.34759371,  -4.33384716,  -3.13818631],\n",
      "       [ -1.88585287,  -4.04567335,  -3.69216499],\n",
      "       [  0.09417313,  -4.05882797,  -3.77574238],\n",
      "       [ -0.37162476,  -7.49290067,  -4.57024715],\n",
      "       [ -3.84268025,  -3.33798319,   8.99510049],\n",
      "       [ -1.66378662,   0.92988049,  -3.09458605],\n",
      "       [ -1.68903803,   7.74826891,   2.68935178],\n",
      "       [ -0.80185194,   5.95676894,   4.11097253],\n",
      "       [ -2.30970265,   5.8496944 ,   8.1285102 ],\n",
      "       [ -2.44987733,   5.56035949,   6.83114649],\n",
      "       [ -1.86875069,  -7.28994998,  -1.99764975],\n",
      "       [ -3.83694577,  -2.85919197,  -3.7938427 ],\n",
      "       [ -5.85240468,  -3.48157185,  -3.6418171 ],\n",
      "       [ -0.42863319,  -4.24947701,  -3.51874239],\n",
      "       [ -3.7079299 ,  -3.82947877,  -4.16412246],\n",
      "       [ -2.96275801,   2.59217754,   4.64066029],\n",
      "       [ -2.43823864,   5.00617923,   4.6898383 ],\n",
      "       [ -0.41731608,  -4.96372975,  -6.10691421],\n",
      "       [ -1.38785643,  -3.19321478,   6.69684318],\n",
      "       [ -0.37125566,  -4.99321884,  -4.751138  ],\n",
      "       [ -3.02331158,  -2.44017528,  -4.71232029],\n",
      "       [ -3.92322574,   5.67788619,   6.86238277],\n",
      "       [ -1.4593974 ,  -5.56121562,  -2.45885784],\n",
      "       [ -0.68214058,  -4.8326936 ,  -3.79577694],\n",
      "       [ -2.64858283,  -3.46892111,  -8.68804693],\n",
      "       [ -3.80766556,   1.52635971,  -4.84162238],\n",
      "       [ -4.35069757,  -3.1954242 ,  -3.59492317],\n",
      "       [  0.88398026,  -1.02481236,  13.45481222],\n",
      "       [ -1.35072701,   4.38388826,   4.36663346],\n",
      "       [ -0.6381558 ,  -1.52899105,   9.28257833],\n",
      "       [ -5.43501347,   3.17188742,   5.43807247],\n",
      "       [ -2.23746737,   3.53619823,   0.82187211],\n",
      "       [ -2.45948104,  -1.80149926,   9.28980057],\n",
      "       [ -4.28977914,  -1.60386356,  -1.49895082],\n",
      "       [ -0.326606  ,  -7.95986252,  -2.67815731],\n",
      "       [  1.0976676 ,  -4.85679456,  -5.39405829],\n",
      "       [ -2.77680162,   6.84044453,   6.72146024],\n",
      "       [ -3.77216165,  -2.47461737,  -1.91631375],\n",
      "       [ -1.82470952,   1.673483  ,   9.24419385],\n",
      "       [ -6.16138776,  -1.56397943,  -3.78280391],\n",
      "       [ -1.54309947,  -3.32987396,   6.92765812],\n",
      "       [ -0.94937873,  -5.17918662,  -6.36790963],\n",
      "       [ -0.72123023,  -6.57879323,  -3.83380621],\n",
      "       [ -2.19928997,  -3.36570968,   0.82608947],\n",
      "       [ -2.41469662,   4.66269862,   6.92502017],\n",
      "       [ -3.17030594,  -3.78760877,  11.34772394],\n",
      "       [ -2.87159454,  -3.80135812,   7.04262371],\n",
      "       [ -1.36756775,  -4.18721798,   8.93800061],\n",
      "       [  5.19455346,  -3.85790517,  -4.69233551],\n",
      "       [ -4.18701675,  -2.11345388,  -2.58788104],\n",
      "       [ -0.88155331,  -2.3766811 ,   7.71046258],\n",
      "       [  2.03348684,  -7.62870858,  -4.11223732],\n",
      "       [ -1.42220382,   5.20840822,   3.27139366],\n",
      "       [ -2.84818848,  -2.93875347,   9.8375788 ],\n",
      "       [ -1.68688207,  -1.67582181,   9.34999116],\n",
      "       [  1.02728502,  -4.93249883,  -6.13566432],\n",
      "       [ -1.89690446,   6.78640058,   6.139547  ],\n",
      "       [ -2.77128049,  -5.05453799,  -0.8955963 ],\n",
      "       [ -4.9108609 ,  -4.53841406,  -1.33634287],\n",
      "       [ -3.61831509,  -0.26113122,   9.02383901],\n",
      "       [ -3.52569464,  -3.43162838,  -2.16090318],\n",
      "       [ -0.60139067,  -1.16095485,   9.30443737],\n",
      "       [ -1.15491767,  -1.14147772,  11.97858914],\n",
      "       [ -1.01151839,   5.38047538,   5.7884295 ],\n",
      "       [ -2.33425004,   7.05562607,   2.62017039],\n",
      "       [ -0.76118305,   4.61677808,   3.110491  ],\n",
      "       [  2.32669251,  -7.5291754 ,  -6.31415081],\n",
      "       [ -0.96550564,  -7.31646946,  -6.38619545],\n",
      "       [ -0.47053214,  -3.63664996,   7.23811254],\n",
      "       [ -4.85206993,   5.19649712,   5.12358501],\n",
      "       [ -5.27637441,  -5.49840417,  -1.88969712],\n",
      "       [ -0.31648872,  -2.36872618,   8.60270965],\n",
      "       [  1.08048954,  -6.06866727,  -4.65353622],\n",
      "       [ -0.30193983,  -5.70805718,  -5.20395982],\n",
      "       [ -2.47066403,  -4.87005439,  10.5455488 ],\n",
      "       [ -3.25320476,   5.24204667,   4.64527826],\n",
      "       [ -2.77952832,  -1.58603495,  -2.98172967],\n",
      "       [ -2.43461458,  -2.46459481,   9.94731568],\n",
      "       [  0.57080194,  -3.57775747,  -0.9475259 ],\n",
      "       [  0.77259266,   3.34757221,   4.85146147],\n",
      "       [ -1.29098281,  -1.43729337,  11.2137736 ],\n",
      "       [ -1.0579255 ,  -3.17162516,  11.03476103],\n",
      "       [ -2.25521451,   5.570969  ,   6.74022087],\n",
      "       [ -5.2734915 ,   3.38245661,   4.6716947 ],\n",
      "       [ -0.52100536,  -5.36288806,  -5.57382576],\n",
      "       [ -4.01951234,  -6.28719759,  -3.54276856],\n",
      "       [ -1.04729624,   6.42238668,   6.31799313],\n",
      "       [ -1.59728965,   8.45369045,   6.86098222],\n",
      "       [ -2.19584354,   4.2466323 ,   3.29876136],\n",
      "       [ -3.3655072 ,  -3.2297264 ,   6.8079415 ],\n",
      "       [ -1.9765368 ,  -6.7074845 ,  -4.95265816],\n",
      "       [ -0.76754221,  -5.69548201,  -4.66727117],\n",
      "       [ -3.64683351,  -3.42672033,   7.64284207],\n",
      "       [ -3.00704623,  -6.60262578,  -2.93811074],\n",
      "       [ -3.47496029,  -2.84298866,  12.45607726],\n",
      "       [ -0.53230898,   3.58216351,   2.64905757],\n",
      "       [ -1.80679533,  -5.17273121,  -1.74668363],\n",
      "       [ -1.22681064,   6.06398355,   4.81639406],\n",
      "       [ -0.68865686,  -9.55180953,  -4.67049794],\n",
      "       [ -5.04804825,   4.27765336,   3.33914624],\n",
      "       [ -4.22794234,  -6.28336394,  -3.86148919],\n",
      "       [ -1.53385161,  -4.30163427,  -7.39459412],\n",
      "       [ -3.08717244,  -1.21050182,  -1.9302054 ],\n",
      "       [  0.24762286,  -5.03543616,  -3.75783979],\n",
      "       [ -0.92994835,  -0.40529338,  10.53194091],\n",
      "       [ -2.52085628,  -2.03943557,  -6.23387898],\n",
      "       [  1.91240584,  -2.82233018,  -4.35898025],\n",
      "       [ -3.74639154,  -2.60323831,  -2.23096351],\n",
      "       [ -4.76780707,   5.97609288,   5.44019264],\n",
      "       [ -5.16800327,  -3.07228533,  -2.34360462],\n",
      "       [ -1.32202124,   6.91049504,   4.55167776],\n",
      "       [  3.1973441 ,  -3.69780369,  -3.60221906],\n",
      "       [ -0.15774464, -11.53416252,  -5.20900103],\n",
      "       [ -0.44919379,  -6.86386529,  -5.32355567],\n",
      "       [ -2.75853245,   5.71712591,   8.19070089],\n",
      "       [ -4.12325791,   7.67944316,   2.93856812],\n",
      "       [  0.32176282,  -1.11286937,  10.30863795],\n",
      "       [ -3.71192307,  -3.92848466,  -3.71708317],\n",
      "       [ -3.16090135,  -4.72449777,  -3.35665034],\n",
      "       [ -0.91579118,   5.27966018,   4.05902254],\n",
      "       [ -2.47483986,  -2.5111995 ,  -1.32413137],\n",
      "       [ -2.7277924 ,  -1.31677699,  -1.12126957],\n",
      "       [ -0.0531377 ,  -4.24382764,  -6.40034166],\n",
      "       [ -3.78405528,  -1.54966315,  10.02310833],\n",
      "       [ -3.14940157,  -7.68999068,  -4.14751397],\n",
      "       [ -2.18916044,  -4.47570217,   7.55190425],\n",
      "       [ -4.69674696,   5.62249705,   6.15601555]]), array([3, 3, 2, 2, 2, 1, 2, 3, 1, 0, 1, 3, 0, 3, 2, 0, 1, 1, 1, 0, 3, 1,\n",
      "       1, 1, 2, 1, 3, 2, 0, 1, 1, 3, 3, 1, 1, 0, 3, 2, 2, 1, 3, 3, 1, 2,\n",
      "       1, 3, 3, 2, 0, 3, 0, 2, 3, 1, 2, 2, 0, 3, 3, 0, 0, 0, 1, 2, 3, 2,\n",
      "       0, 0, 1, 0, 3, 0, 1, 0, 0, 0, 0, 1, 3, 2, 2, 2, 2, 0, 3, 3, 0, 3,\n",
      "       2, 2, 0, 1, 0, 3, 2, 0, 0, 0, 3, 3, 1, 2, 1, 2, 2, 1, 3, 0, 0, 2,\n",
      "       3, 1, 3, 1, 0, 0, 3, 2, 1, 1, 1, 0, 3, 1, 0, 2, 1, 1, 0, 2, 3, 3,\n",
      "       1, 3, 1, 1, 2, 2, 2, 0, 0, 1, 2, 3, 1, 0, 0, 1, 2, 3, 1, 0, 2, 1,\n",
      "       1, 2, 2, 0, 0, 2, 2, 2, 1, 0, 0, 1, 3, 1, 2, 3, 2, 0, 2, 3, 3, 3,\n",
      "       0, 1, 3, 0, 3, 2, 3, 2, 0, 0, 0, 2, 2, 1, 3, 3, 2, 3, 3, 0, 1, 3,\n",
      "       1, 2]))\n"
     ]
    }
   ],
   "source": [
    "print(dataset)"
   ]
  },
  {
   "cell_type": "code",
   "execution_count": 17,
   "metadata": {},
   "outputs": [],
   "source": [
    "from sklearn.cluster import KMeans"
   ]
  },
  {
   "cell_type": "code",
   "execution_count": 18,
   "metadata": {},
   "outputs": [],
   "source": [
    "kmeans=KMeans(n_clusters=4)"
   ]
  },
  {
   "cell_type": "code",
   "execution_count": 19,
   "metadata": {},
   "outputs": [],
   "source": [
    "points=dataset[0]"
   ]
  },
  {
   "cell_type": "code",
   "execution_count": 20,
   "metadata": {},
   "outputs": [
    {
     "data": {
      "text/plain": [
       "KMeans(algorithm='auto', copy_x=True, init='k-means++', max_iter=300,\n",
       "       n_clusters=4, n_init=10, n_jobs=None, precompute_distances='auto',\n",
       "       random_state=None, tol=0.0001, verbose=0)"
      ]
     },
     "execution_count": 20,
     "metadata": {},
     "output_type": "execute_result"
    }
   ],
   "source": [
    "kmeans.fit(points)   #fit the kmeans objects to datasets"
   ]
  },
  {
   "cell_type": "code",
   "execution_count": 21,
   "metadata": {},
   "outputs": [
    {
     "data": {
      "text/plain": [
       "<matplotlib.collections.PathCollection at 0x1a610a5b948>"
      ]
     },
     "execution_count": 21,
     "metadata": {},
     "output_type": "execute_result"
    },
    {
     "data": {
      "image/png": "[encoded data removed]",
      "text/plain": [
       "<Figure size 432x288 with 1 Axes>"
      ]
     },
     "metadata": {
      "needs_background": "light"
     },
     "output_type": "display_data"
    }
   ],
   "source": [
    "plt.scatter(dataset[0][:,0],dataset[0][:,1])"
   ]
  },
  {
   "cell_type": "code",
   "execution_count": 22,
   "metadata": {},
   "outputs": [],
   "source": [
    "y_km=kmeans.fit_predict(points)"
   ]
  },
  {
   "cell_type": "code",
   "execution_count": 23,
   "metadata": {},
   "outputs": [],
   "source": [
    "clusters=kmeans.cluster_centers_"
   ]
  },
  {
   "cell_type": "code",
   "execution_count": 25,
   "metadata": {},
   "outputs": [
    {
     "data": {
      "image/png": "[encoded data removed]",
      "text/plain": [
       "<Figure size 432x288 with 1 Axes>"
      ]
     },
     "metadata": {
      "needs_background": "light"
     },
     "output_type": "display_data"
    }
   ],
   "source": [
    "plt.scatter(points[y_km==0,0],points[y_km==0,1],s=100,color=\"red\")\n",
    "plt.scatter(points[y_km==1,0],points[y_km==1,1],s=100,color=\"blue\")\n",
    "plt.scatter(points[y_km==2,0],points[y_km==2,1],s=100,color=\"green\")\n",
    "plt.scatter(points[y_km==3,0],points[y_km==3,1],s=100,color=\"orange\")\n",
    "plt.scatter(clusters[0][0],clusters[0][1], marker=\"^\",s=200,color='black')\n",
    "plt.scatter(clusters[1][0],clusters[1][1], marker=\"^\",s=200,color='black')\n",
    "plt.scatter(clusters[2][0],clusters[2][1], marker=\"^\",s=200,color='black')\n",
    "plt.scatter(clusters[3][0],clusters[3][1], marker=\"^\",s=200,color='black')\n",
    "plt.show()\n"
   ]
  },
  {
   "cell_type": "code",
   "execution_count": null,
   "metadata": {},
   "outputs": [],
   "source": []
  }
 ],
 "metadata": {
  "kernelspec": {
   "display_name": "Python 3",
   "language": "python",
   "name": "python3"
  },
  "language_info": {
   "codemirror_mode": {
    "name": "ipython",
    "version": 3
   },
   "file_extension": ".py",
   "mimetype": "text/x-python",
   "name": "python",
   "nbconvert_exporter": "python",
   "pygments_lexer": "ipython3",
   "version": "3.7.4"
  }
 },
 "nbformat": 4,
 "nbformat_minor": 2
}
