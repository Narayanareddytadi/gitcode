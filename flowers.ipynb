{
 "cells": [
  {
   "cell_type": "markdown",
   "metadata": {},
   "source": [
    "Download the  data set on kaggle: https://www.kaggle.com/alxmamaev/flowers-recognition\n",
    "\n",
    "This dataset contains 4323 images of flowers.The pictures are divided into five classes: chamomile, tulip, rose, sunflower, dandelion. For each class there are about 800 photos. Photos are not high resolution, about 320x240 pixels. Photos are not reduced to a single size, they have different proportions!\n",
    "\n",
    "Url of the dat set: https://storage.googleapis.com/kaggle-data-sets/8782/44566/bundle/archive.zip?GoogleAccessId=web-data@kaggle-161607.iam.gserviceaccount.com&Expires=1572461993&Signature=sB2gDNcvva0qfGtM9gkAa4AcsKPw%2BgrqiM2i0oasnLuq5qG5fEMLkl9C9ieTyJdp1NV%2FioB%2BfLCQ%2FHD9Wod5gD0bz89vPR7r%2BUPakG%2FBsl6szLZxTVvSsPC6vNYuQRIL7vQiIcHlzrh8xWhLaTKTo2%2FUCdZw7B4%2FKKNzqY7Zt4HFMTydl4FbhU8v5KnsWHFzrmlZSBCwyPIyfsO200sAFkF4%2Blv%2Fh8vfmeWusIdRKtu6bu4xX0EZvabXVdRZcgu2YfhXKkVOvmgUu1A0s822DhZqkzwKDWzEL9vfdQAtCojn%2FmLaZeahSHq43TNF6JkCRDDWDZRwuVUqzcs%2FIsivEg%3D%3D&response-content-disposition=attachment%3B+filename%3Dflowers-recognition.zip\n",
    "\n",
    "After you download the zip file, extract it to the default path of jupyter. Then delete three Non-image files in folder: 'flowers/flowers/dandelion'."
   ]
  },
  {
   "cell_type": "code",
   "execution_count": 1,
   "metadata": {},
   "outputs": [
    {
     "data": {
      "text/plain": [
       "'C:\\\\Users\\\\ntadi'"
      ]
     },
     "execution_count": 1,
     "metadata": {},
     "output_type": "execute_result"
    }
   ],
   "source": [
    "pwd"
   ]
  },
  {
   "cell_type": "markdown",
   "metadata": {},
   "source": [
    "Get all the libraries.Here I use tensorflow 2.0 and tensorflow-gpu."
   ]
  },
  {
   "cell_type": "code",
   "execution_count": 2,
   "metadata": {},
   "outputs": [],
   "source": [
    "import os\n",
    "import numpy as np\n",
    "import pandas as pd\n",
    "import matplotlib.pyplot as plt\n",
    "from PIL import Image\n",
    "import cv2\n",
    "from sklearn.preprocessing import LabelEncoder\n",
    "from sklearn.model_selection import train_test_split\n",
    "from tensorflow.keras.utils import to_categorical\n",
    "from tensorflow.keras.models import Sequential\n",
    "from tensorflow.keras.layers import Conv2D, MaxPooling2D, Dropout, Flatten, Dense"
   ]
  },
  {
   "cell_type": "markdown",
   "metadata": {},
   "source": [
    "Define a function to load the images and store them in X. At the same time, give each image a label, which is stored in Y, and resize each image to 100 * 100."
   ]
  },
  {
   "cell_type": "code",
   "execution_count": 3,
   "metadata": {},
   "outputs": [],
   "source": [
    "X=[]\n",
    "Y=[]\n",
    "def load_image(Ftype,PATH):\n",
    "    for image in (os.listdir(PATH)):\n",
    "        path=os.path.join(PATH,image)\n",
    "        x=cv2.imread(path,cv2.IMREAD_COLOR)\n",
    "        x=cv2.resize(x,(100,100))\n",
    "        y=Ftype\n",
    "        X.append(np.array(x))\n",
    "        Y.append(str(y))"
   ]
  },
  {
   "cell_type": "markdown",
   "metadata": {},
   "source": [
    "Use the function to load the images and show the amount of the images."
   ]
  },
  {
   "cell_type": "code",
   "execution_count": 4,
   "metadata": {},
   "outputs": [
    {
     "ename": "FileNotFoundError",
     "evalue": "[WinError 3] The system cannot find the path specified: 'flowers/daisy'",
     "output_type": "error",
     "traceback": [
      "\u001b[1;31m---------------------------------------------------------------------------\u001b[0m",
      "\u001b[1;31mFileNotFoundError\u001b[0m                         Traceback (most recent call last)",
      "\u001b[1;32m<ipython-input-4-d61d246b2155>\u001b[0m in \u001b[0;36m<module>\u001b[1;34m\u001b[0m\n\u001b[1;32m----> 1\u001b[1;33m \u001b[0mload_image\u001b[0m\u001b[1;33m(\u001b[0m\u001b[1;34m'daisy'\u001b[0m\u001b[1;33m,\u001b[0m\u001b[1;34m'flowers/daisy'\u001b[0m\u001b[1;33m)\u001b[0m\u001b[1;33m\u001b[0m\u001b[1;33m\u001b[0m\u001b[0m\n\u001b[0m\u001b[0;32m      2\u001b[0m \u001b[0mload_image\u001b[0m\u001b[1;33m(\u001b[0m\u001b[1;34m'dandelion'\u001b[0m\u001b[1;33m,\u001b[0m\u001b[1;34m'flowers/dandelion'\u001b[0m\u001b[1;33m)\u001b[0m\u001b[1;33m\u001b[0m\u001b[1;33m\u001b[0m\u001b[0m\n\u001b[0;32m      3\u001b[0m \u001b[0mload_image\u001b[0m\u001b[1;33m(\u001b[0m\u001b[1;34m'rose'\u001b[0m\u001b[1;33m,\u001b[0m\u001b[1;34m'flowers/rose'\u001b[0m\u001b[1;33m)\u001b[0m\u001b[1;33m\u001b[0m\u001b[1;33m\u001b[0m\u001b[0m\n\u001b[0;32m      4\u001b[0m \u001b[0mload_image\u001b[0m\u001b[1;33m(\u001b[0m\u001b[1;34m'sunflower'\u001b[0m\u001b[1;33m,\u001b[0m\u001b[1;34m'flowers/sunflower'\u001b[0m\u001b[1;33m)\u001b[0m\u001b[1;33m\u001b[0m\u001b[1;33m\u001b[0m\u001b[0m\n\u001b[0;32m      5\u001b[0m \u001b[0mload_image\u001b[0m\u001b[1;33m(\u001b[0m\u001b[1;34m'tulip'\u001b[0m\u001b[1;33m,\u001b[0m\u001b[1;34m'flowers/tulip'\u001b[0m\u001b[1;33m)\u001b[0m\u001b[1;33m\u001b[0m\u001b[1;33m\u001b[0m\u001b[0m\n",
      "\u001b[1;32m<ipython-input-3-4f1a82b8ff63>\u001b[0m in \u001b[0;36mload_image\u001b[1;34m(Ftype, PATH)\u001b[0m\n\u001b[0;32m      2\u001b[0m \u001b[0mY\u001b[0m\u001b[1;33m=\u001b[0m\u001b[1;33m[\u001b[0m\u001b[1;33m]\u001b[0m\u001b[1;33m\u001b[0m\u001b[1;33m\u001b[0m\u001b[0m\n\u001b[0;32m      3\u001b[0m \u001b[1;32mdef\u001b[0m \u001b[0mload_image\u001b[0m\u001b[1;33m(\u001b[0m\u001b[0mFtype\u001b[0m\u001b[1;33m,\u001b[0m\u001b[0mPATH\u001b[0m\u001b[1;33m)\u001b[0m\u001b[1;33m:\u001b[0m\u001b[1;33m\u001b[0m\u001b[1;33m\u001b[0m\u001b[0m\n\u001b[1;32m----> 4\u001b[1;33m     \u001b[1;32mfor\u001b[0m \u001b[0mimage\u001b[0m \u001b[1;32min\u001b[0m \u001b[1;33m(\u001b[0m\u001b[0mos\u001b[0m\u001b[1;33m.\u001b[0m\u001b[0mlistdir\u001b[0m\u001b[1;33m(\u001b[0m\u001b[0mPATH\u001b[0m\u001b[1;33m)\u001b[0m\u001b[1;33m)\u001b[0m\u001b[1;33m:\u001b[0m\u001b[1;33m\u001b[0m\u001b[1;33m\u001b[0m\u001b[0m\n\u001b[0m\u001b[0;32m      5\u001b[0m         \u001b[0mpath\u001b[0m\u001b[1;33m=\u001b[0m\u001b[0mos\u001b[0m\u001b[1;33m.\u001b[0m\u001b[0mpath\u001b[0m\u001b[1;33m.\u001b[0m\u001b[0mjoin\u001b[0m\u001b[1;33m(\u001b[0m\u001b[0mPATH\u001b[0m\u001b[1;33m,\u001b[0m\u001b[0mimage\u001b[0m\u001b[1;33m)\u001b[0m\u001b[1;33m\u001b[0m\u001b[1;33m\u001b[0m\u001b[0m\n\u001b[0;32m      6\u001b[0m         \u001b[0mx\u001b[0m\u001b[1;33m=\u001b[0m\u001b[0mcv2\u001b[0m\u001b[1;33m.\u001b[0m\u001b[0mimread\u001b[0m\u001b[1;33m(\u001b[0m\u001b[0mpath\u001b[0m\u001b[1;33m,\u001b[0m\u001b[0mcv2\u001b[0m\u001b[1;33m.\u001b[0m\u001b[0mIMREAD_COLOR\u001b[0m\u001b[1;33m)\u001b[0m\u001b[1;33m\u001b[0m\u001b[1;33m\u001b[0m\u001b[0m\n",
      "\u001b[1;31mFileNotFoundError\u001b[0m: [WinError 3] The system cannot find the path specified: 'flowers/daisy'"
     ]
    }
   ],
   "source": [
    "load_image('daisy','flowers/daisy')\n",
    "load_image('dandelion','flowers/dandelion')\n",
    "load_image('rose','flowers/rose')\n",
    "load_image('sunflower','flowers/sunflower')\n",
    "load_image('tulip','flowers/tulip')\n",
    "print(len(X))"
   ]
  },
  {
   "cell_type": "markdown",
   "metadata": {},
   "source": [
    "Show one of the images."
   ]
  },
  {
   "cell_type": "code",
   "execution_count": 4,
   "metadata": {},
   "outputs": [
    {
     "ename": "IndexError",
     "evalue": "list index out of range",
     "output_type": "error",
     "traceback": [
      "\u001b[1;31m---------------------------------------------------------------------------\u001b[0m",
      "\u001b[1;31mIndexError\u001b[0m                                Traceback (most recent call last)",
      "\u001b[1;32m<ipython-input-4-8cacfc137c7a>\u001b[0m in \u001b[0;36m<module>\u001b[1;34m\u001b[0m\n\u001b[1;32m----> 1\u001b[1;33m \u001b[0mimg\u001b[0m\u001b[1;33m=\u001b[0m\u001b[0mplt\u001b[0m\u001b[1;33m.\u001b[0m\u001b[0mimshow\u001b[0m\u001b[1;33m(\u001b[0m\u001b[0mX\u001b[0m\u001b[1;33m[\u001b[0m\u001b[1;36m980\u001b[0m\u001b[1;33m]\u001b[0m\u001b[1;33m)\u001b[0m\u001b[1;33m\u001b[0m\u001b[1;33m\u001b[0m\u001b[0m\n\u001b[0m",
      "\u001b[1;31mIndexError\u001b[0m: list index out of range"
     ]
    }
   ],
   "source": [
    "img=plt.imshow(X[980])"
   ]
  },
  {
   "cell_type": "markdown",
   "metadata": {},
   "source": [
    "Encode the label and scale the input."
   ]
  },
  {
   "cell_type": "code",
   "execution_count": 7,
   "metadata": {},
   "outputs": [],
   "source": [
    "le=LabelEncoder()\n",
    "Y=le.fit_transform(Y)\n",
    "Y=to_categorical(Y,5)\n",
    "X=np.array(X)\n",
    "X=X/255"
   ]
  },
  {
   "cell_type": "markdown",
   "metadata": {},
   "source": [
    "Split training and testing set."
   ]
  },
  {
   "cell_type": "code",
   "execution_count": 8,
   "metadata": {},
   "outputs": [],
   "source": [
    "x_train,x_test,y_train,y_test=train_test_split(X,Y,test_size=0.2,random_state=26)"
   ]
  },
  {
   "cell_type": "markdown",
   "metadata": {},
   "source": [
    "Build the model."
   ]
  },
  {
   "cell_type": "code",
   "execution_count": 9,
   "metadata": {},
   "outputs": [
    {
     "name": "stdout",
     "output_type": "stream",
     "text": [
      "WARNING:tensorflow:From C:\\Users\\ptjos\\AppData\\Roaming\\Python\\Python37\\site-packages\\tensorflow\\python\\ops\\resource_variable_ops.py:435: colocate_with (from tensorflow.python.framework.ops) is deprecated and will be removed in a future version.\n",
      "Instructions for updating:\n",
      "Colocations handled automatically by placer.\n",
      "WARNING:tensorflow:From C:\\Users\\ptjos\\AppData\\Roaming\\Python\\Python37\\site-packages\\tensorflow\\python\\keras\\layers\\core.py:143: calling dropout (from tensorflow.python.ops.nn_ops) with keep_prob is deprecated and will be removed in a future version.\n",
      "Instructions for updating:\n",
      "Please use `rate` instead of `keep_prob`. Rate should be set to `rate = 1 - keep_prob`.\n"
     ]
    }
   ],
   "source": [
    "model=Sequential()\n",
    "\n",
    "model.add(Conv2D(32,(5,5),activation='relu',input_shape=(100,100,3)))\n",
    "model.add(Dropout(0.2))\n",
    "model.add(Conv2D(32,(5,5),activation='relu'))\n",
    "model.add(MaxPooling2D(pool_size=(2,2)))\n",
    "\n",
    "\n",
    "model.add(Conv2D(64,(3,3),activation='relu'))\n",
    "model.add(Dropout(0.2))\n",
    "model.add(Conv2D(64,(3,3),activation='relu'))\n",
    "model.add(MaxPooling2D(pool_size=(2,2)))\n",
    "\n",
    "model.add(Conv2D(96,(3,3),activation='relu'))\n",
    "model.add(Dropout(0.2))\n",
    "model.add(Conv2D(96,(3,3),activation='relu'))\n",
    "model.add(MaxPooling2D(pool_size=(2,2)))\n",
    "\n",
    "model.add(Flatten())\n",
    "model.add(Dropout(0.2))\n",
    "\n",
    "model.add(Dense(512))\n",
    "model.add(Dropout(0.2))\n",
    "\n",
    "model.add(Dense(5,activation=\"softmax\"))\n",
    "\n",
    "model.compile(loss='categorical_crossentropy',optimizer='adam',metrics=['accuracy'])"
   ]
  },
  {
   "cell_type": "markdown",
   "metadata": {},
   "source": [
    "Train the data and show the history of loss and accuracy for both training and validation set."
   ]
  },
  {
   "cell_type": "code",
   "execution_count": 10,
   "metadata": {},
   "outputs": [
    {
     "name": "stdout",
     "output_type": "stream",
     "text": [
      "Train on 2420 samples, validate on 1038 samples\n",
      "WARNING:tensorflow:From C:\\Users\\ptjos\\AppData\\Roaming\\Python\\Python37\\site-packages\\tensorflow\\python\\ops\\math_ops.py:3066: to_int32 (from tensorflow.python.ops.math_ops) is deprecated and will be removed in a future version.\n",
      "Instructions for updating:\n",
      "Use tf.cast instead.\n",
      "Epoch 1/20\n",
      "2420/2420 [==============================] - 162s 67ms/sample - loss: 1.6263 - acc: 0.2508 - val_loss: 1.5066 - val_acc: 0.3170\n",
      "Epoch 2/20\n",
      "2420/2420 [==============================] - 133s 55ms/sample - loss: 1.3354 - acc: 0.4070 - val_loss: 1.3251 - val_acc: 0.4200\n",
      "Epoch 3/20\n",
      "2420/2420 [==============================] - 147s 61ms/sample - loss: 1.2138 - acc: 0.4785 - val_loss: 1.2676 - val_acc: 0.4412\n",
      "Epoch 4/20\n",
      "2420/2420 [==============================] - 147s 61ms/sample - loss: 1.1476 - acc: 0.5219 - val_loss: 1.2294 - val_acc: 0.4653\n",
      "Epoch 5/20\n",
      "2420/2420 [==============================] - 144s 60ms/sample - loss: 1.1268 - acc: 0.5430 - val_loss: 1.2822 - val_acc: 0.4451\n",
      "Epoch 6/20\n",
      "2420/2420 [==============================] - 148s 61ms/sample - loss: 1.0995 - acc: 0.5616 - val_loss: 1.1449 - val_acc: 0.5684\n",
      "Epoch 7/20\n",
      "2420/2420 [==============================] - 163s 67ms/sample - loss: 1.0205 - acc: 0.5872 - val_loss: 1.0958 - val_acc: 0.5453\n",
      "Epoch 8/20\n",
      "2420/2420 [==============================] - 201s 83ms/sample - loss: 0.9792 - acc: 0.6050 - val_loss: 1.0401 - val_acc: 0.5915\n",
      "Epoch 9/20\n",
      "2420/2420 [==============================] - 200s 82ms/sample - loss: 0.8966 - acc: 0.6409 - val_loss: 1.0938 - val_acc: 0.5578\n",
      "Epoch 10/20\n",
      "2420/2420 [==============================] - 202s 83ms/sample - loss: 0.8899 - acc: 0.6579 - val_loss: 1.0438 - val_acc: 0.5723\n",
      "Epoch 11/20\n",
      "2420/2420 [==============================] - 204s 84ms/sample - loss: 0.8514 - acc: 0.6707 - val_loss: 1.0568 - val_acc: 0.5829\n",
      "Epoch 12/20\n",
      "2420/2420 [==============================] - 202s 83ms/sample - loss: 0.8523 - acc: 0.6793 - val_loss: 1.0581 - val_acc: 0.5819\n",
      "Epoch 13/20\n",
      "2420/2420 [==============================] - 204s 84ms/sample - loss: 0.8242 - acc: 0.6818 - val_loss: 0.9869 - val_acc: 0.6118\n",
      "Epoch 14/20\n",
      "2420/2420 [==============================] - 203s 84ms/sample - loss: 0.7126 - acc: 0.7326 - val_loss: 0.9754 - val_acc: 0.6195\n",
      "Epoch 15/20\n",
      "2420/2420 [==============================] - 204s 84ms/sample - loss: 0.6776 - acc: 0.7463 - val_loss: 0.9644 - val_acc: 0.6310\n",
      "Epoch 16/20\n",
      "2420/2420 [==============================] - 203s 84ms/sample - loss: 0.6301 - acc: 0.7653 - val_loss: 1.0666 - val_acc: 0.5906\n",
      "Epoch 17/20\n",
      "2420/2420 [==============================] - 197s 82ms/sample - loss: 0.6135 - acc: 0.7694 - val_loss: 0.9462 - val_acc: 0.6455\n",
      "Epoch 18/20\n",
      "2420/2420 [==============================] - 196s 81ms/sample - loss: 0.5771 - acc: 0.7831 - val_loss: 1.0082 - val_acc: 0.6166\n",
      "Epoch 19/20\n",
      "2420/2420 [==============================] - 201s 83ms/sample - loss: 0.5271 - acc: 0.8017 - val_loss: 1.0025 - val_acc: 0.6291\n",
      "Epoch 20/20\n",
      "2420/2420 [==============================] - 205s 85ms/sample - loss: 0.4937 - acc: 0.8095 - val_loss: 1.1013 - val_acc: 0.6233\n"
     ]
    }
   ],
   "source": [
    "hist=model.fit(x_train,y_train,batch_size=128,epochs=20,validation_split=0.3)"
   ]
  },
  {
   "cell_type": "markdown",
   "metadata": {},
   "source": [
    "Show the accuracy for testing set, which is 0.6428."
   ]
  },
  {
   "cell_type": "code",
   "execution_count": 11,
   "metadata": {},
   "outputs": [
    {
     "name": "stdout",
     "output_type": "stream",
     "text": [
      "865/865 [==============================] - 26s 30ms/sample - loss: 1.0585 - acc: 0.6301\n"
     ]
    }
   ],
   "source": [
    "acc=model.evaluate(x_test,y_test)[1]"
   ]
  },
  {
   "cell_type": "markdown",
   "metadata": {},
   "source": [
    "Graphs to visualize the testing and validation data accuracy."
   ]
  },
  {
   "cell_type": "code",
   "execution_count": 14,
   "metadata": {},
   "outputs": [
    {
     "data": {
      "image/png": "[encoded data removed]",
      "text/plain": [
       "<Figure size 432x288 with 1 Axes>"
      ]
     },
     "metadata": {
      "needs_background": "light"
     },
     "output_type": "display_data"
    }
   ],
   "source": [
    "plt.hlines(acc,0,19)\n",
    "plt.plot(hist.history['val_acc'])\n",
    "plt.title('Model accuracy')\n",
    "plt.ylabel('Accuracy')\n",
    "plt.xlabel('Epoch')\n",
    "plt.legend(['Valid', 'Test'],loc='upper left')\n",
    "plt.show()"
   ]
  },
  {
   "cell_type": "markdown",
   "metadata": {},
   "source": [
    "Graphs to visualize the training and validation data accuracy."
   ]
  },
  {
   "cell_type": "code",
   "execution_count": 17,
   "metadata": {},
   "outputs": [
    {
     "data": {
      "image/png": "[encoded data removed]",
      "text/plain": [
       "<Figure size 432x288 with 1 Axes>"
      ]
     },
     "metadata": {
      "needs_background": "light"
     },
     "output_type": "display_data"
    }
   ],
   "source": [
    "plt.plot(hist.history['acc'])\n",
    "plt.plot(hist.history['val_acc'])\n",
    "plt.title('Model accuracy')\n",
    "plt.ylabel('Accuracy')\n",
    "plt.xlabel('Epoch')\n",
    "plt.legend(['Train', 'Valid'],loc='upper left')\n",
    "plt.show()"
   ]
  },
  {
   "cell_type": "markdown",
   "metadata": {},
   "source": [
    "According to the plot above, we can see that the accuracy of the validation set has steadily increased and is ultimately consistent with the accuracy of the testing set.\n",
    "\n",
    "Also overfitting occurred after the twelfth iteration. After that, the accuracy of the training set continues to rise, but the accuracy of the validation set remains essentially unchanged.\n",
    "\n",
    "Overall, the model performance is satisfactory. Perhaps adding some convolutional layers can achieve a better result."
   ]
  },
  {
   "cell_type": "code",
   "execution_count": null,
   "metadata": {},
   "outputs": [],
   "source": []
  }
 ],
 "metadata": {
  "kernelspec": {
   "display_name": "Python 3",
   "language": "python",
   "name": "python3"
  },
  "language_info": {
   "codemirror_mode": {
    "name": "ipython",
    "version": 3
   },
   "file_extension": ".py",
   "mimetype": "text/x-python",
   "name": "python",
   "nbconvert_exporter": "python",
   "pygments_lexer": "ipython3",
   "version": "3.7.4"
  }
 },
 "nbformat": 4,
 "nbformat_minor": 2
}
