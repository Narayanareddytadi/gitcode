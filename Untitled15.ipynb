{
 "cells": [
  {
   "cell_type": "code",
   "execution_count": 1,
   "metadata": {},
   "outputs": [
    {
     "name": "stdout",
     "output_type": "stream",
     "text": [
      "7\n"
     ]
    }
   ],
   "source": [
    "def my_fun():\n",
    "    a=2+3\n",
    "    return a\n",
    "b=my_fun()\n",
    "c=b+2\n",
    "print(c)"
   ]
  },
  {
   "cell_type": "code",
   "execution_count": 5,
   "metadata": {},
   "outputs": [
    {
     "name": "stdout",
     "output_type": "stream",
     "text": [
      "5\n"
     ]
    }
   ],
   "source": [
    "my_fun()\n",
    "print(b)"
   ]
  },
  {
   "cell_type": "code",
   "execution_count": 4,
   "metadata": {},
   "outputs": [
    {
     "data": {
      "text/plain": [
       "5"
      ]
     },
     "execution_count": 4,
     "metadata": {},
     "output_type": "execute_result"
    }
   ],
   "source": [
    "b"
   ]
  },
  {
   "cell_type": "code",
   "execution_count": 6,
   "metadata": {},
   "outputs": [
    {
     "data": {
      "text/plain": [
       "2233425648520"
      ]
     },
     "execution_count": 6,
     "metadata": {},
     "output_type": "execute_result"
    }
   ],
   "source": [
    "id(my_fun)"
   ]
  },
  {
   "cell_type": "code",
   "execution_count": 13,
   "metadata": {},
   "outputs": [
    {
     "name": "stdout",
     "output_type": "stream",
     "text": [
      "{'a': 1, 'b': 2, 'c': 3}\n"
     ]
    }
   ],
   "source": [
    " def myfun():\n",
    "        a=1\n",
    "        b=2\n",
    "        c=3\n",
    "        print(locals())\n",
    "myfun()"
   ]
  },
  {
   "cell_type": "code",
   "execution_count": 14,
   "metadata": {},
   "outputs": [
    {
     "name": "stdout",
     "output_type": "stream",
     "text": [
      "{'a': 1, 'b': 2, 'c': 3}\n",
      "None\n"
     ]
    }
   ],
   "source": [
    "print (myfun())"
   ]
  },
  {
   "cell_type": "code",
   "execution_count": 19,
   "metadata": {},
   "outputs": [
    {
     "name": "stdout",
     "output_type": "stream",
     "text": [
      "1000\n",
      "-200\n",
      "1000\n"
     ]
    }
   ],
   "source": [
    "balance =0\n",
    "def deposit():\n",
    "    global balance\n",
    "    balance=balance+1000\n",
    "    return balance\n",
    "def withdraw():\n",
    "    balance=0\n",
    "    balance=balance-200\n",
    "    return balance\n",
    "print(deposit())\n",
    "print(withdraw())\n",
    "print(balance)"
   ]
  },
  {
   "cell_type": "code",
   "execution_count": 20,
   "metadata": {},
   "outputs": [
    {
     "name": "stdout",
     "output_type": "stream",
     "text": [
      "2 3 {'a': 2, 'b': 3}\n"
     ]
    },
    {
     "data": {
      "text/plain": [
       "5"
      ]
     },
     "execution_count": 20,
     "metadata": {},
     "output_type": "execute_result"
    }
   ],
   "source": [
    "def add(a,b):\n",
    "    print(a,b,locals())\n",
    "    c=a+b\n",
    "    return c\n",
    "add(2,3)"
   ]
  },
  {
   "cell_type": "code",
   "execution_count": 22,
   "metadata": {},
   "outputs": [
    {
     "data": {
      "text/plain": [
       "120"
      ]
     },
     "execution_count": 22,
     "metadata": {},
     "output_type": "execute_result"
    }
   ],
   "source": [
    "def fact(n):\n",
    "    if n==0:\n",
    "        return 1\n",
    "    else:\n",
    "        return n*fact(n-1)\n",
    "fact(5)"
   ]
  },
  {
   "cell_type": "code",
   "execution_count": 27,
   "metadata": {},
   "outputs": [
    {
     "data": {
      "text/plain": [
       "55"
      ]
     },
     "execution_count": 27,
     "metadata": {},
     "output_type": "execute_result"
    }
   ],
   "source": [
    "def gmax(*args):\n",
    "    big=0\n",
    "    for i in args:\n",
    "        if big<i:\n",
    "            big=i\n",
    "    return big\n",
    "gmax(1,55,33,44,55)"
   ]
  },
  {
   "cell_type": "code",
   "execution_count": 28,
   "metadata": {},
   "outputs": [
    {
     "data": {
      "text/plain": [
       "55"
      ]
     },
     "execution_count": 28,
     "metadata": {},
     "output_type": "execute_result"
    }
   ],
   "source": [
    "def gmax(*args):\n",
    "    for i in args:\n",
    "        if i:\n",
    "            big=i\n",
    "    return big\n",
    "gmax(1,55,33,44,55)"
   ]
  },
  {
   "cell_type": "code",
   "execution_count": 31,
   "metadata": {},
   "outputs": [
    {
     "name": "stdout",
     "output_type": "stream",
     "text": [
      "1\n"
     ]
    }
   ],
   "source": [
    "def upper():\n",
    "    x = 1\n",
    "    def lower():\n",
    "        return x\n",
    "    return lower()    # retun the local function instead of value \n",
    "\n",
    "print (upper())"
   ]
  },
  {
   "cell_type": "code",
   "execution_count": 35,
   "metadata": {},
   "outputs": [
    {
     "ename": "NameError",
     "evalue": "name 'lower' is not defined",
     "output_type": "error",
     "traceback": [
      "\u001b[1;31m---------------------------------------------------------------------------\u001b[0m",
      "\u001b[1;31mNameError\u001b[0m                                 Traceback (most recent call last)",
      "\u001b[1;32m<ipython-input-35-29427f621151>\u001b[0m in \u001b[0;36m<module>\u001b[1;34m\u001b[0m\n\u001b[1;32m----> 1\u001b[1;33m \u001b[0mlower\u001b[0m\u001b[1;33m(\u001b[0m\u001b[1;33m)\u001b[0m\u001b[1;33m\u001b[0m\u001b[1;33m\u001b[0m\u001b[0m\n\u001b[0m",
      "\u001b[1;31mNameError\u001b[0m: name 'lower' is not defined"
     ]
    }
   ],
   "source": [
    "lower()"
   ]
  },
  {
   "cell_type": "code",
   "execution_count": 36,
   "metadata": {},
   "outputs": [
    {
     "name": "stdout",
     "output_type": "stream",
     "text": [
      "<function upper.<locals>.lower at 0x0000020802978798>\n",
      "1\n"
     ]
    }
   ],
   "source": [
    "def upper():\n",
    "    x = 1\n",
    "    def lower():\n",
    "        return x\n",
    "    return lower # addres of the lower\n",
    "\n",
    "# Main program\n",
    "foo = upper()\n",
    "print (foo)\n",
    "print (foo())"
   ]
  },
  {
   "cell_type": "code",
   "execution_count": 55,
   "metadata": {},
   "outputs": [],
   "source": [
    "def fib(n):\n",
    "    if n<2:\n",
    "        return 1\n",
    "    return fib(n-2) +fib(n-1)"
   ]
  },
  {
   "cell_type": "code",
   "execution_count": 56,
   "metadata": {},
   "outputs": [
    {
     "data": {
      "text/plain": [
       "2"
      ]
     },
     "execution_count": 56,
     "metadata": {},
     "output_type": "execute_result"
    }
   ],
   "source": [
    "fib(2)"
   ]
  },
  {
   "cell_type": "code",
   "execution_count": 57,
   "metadata": {},
   "outputs": [
    {
     "data": {
      "text/plain": [
       "3"
      ]
     },
     "execution_count": 57,
     "metadata": {},
     "output_type": "execute_result"
    }
   ],
   "source": [
    "fib(3)"
   ]
  },
  {
   "cell_type": "code",
   "execution_count": 58,
   "metadata": {},
   "outputs": [
    {
     "data": {
      "text/plain": [
       "5"
      ]
     },
     "execution_count": 58,
     "metadata": {},
     "output_type": "execute_result"
    }
   ],
   "source": [
    "fib(4)\n"
   ]
  },
  {
   "cell_type": "code",
   "execution_count": 59,
   "metadata": {},
   "outputs": [
    {
     "data": {
      "text/plain": [
       "13"
      ]
     },
     "execution_count": 59,
     "metadata": {},
     "output_type": "execute_result"
    }
   ],
   "source": [
    "fib(6)"
   ]
  },
  {
   "cell_type": "code",
   "execution_count": 60,
   "metadata": {},
   "outputs": [
    {
     "data": {
      "text/plain": [
       "8"
      ]
     },
     "execution_count": 60,
     "metadata": {},
     "output_type": "execute_result"
    }
   ],
   "source": [
    "fib(5)"
   ]
  },
  {
   "cell_type": "code",
   "execution_count": 61,
   "metadata": {},
   "outputs": [],
   "source": [
    "def reverse(s): \n",
    "  str = \"\" \n",
    "  for i in s: \n",
    "    str = i + str\n",
    "  return str"
   ]
  },
  {
   "cell_type": "code",
   "execution_count": 64,
   "metadata": {},
   "outputs": [
    {
     "data": {
      "text/plain": [
       "'anayaran'"
      ]
     },
     "execution_count": 64,
     "metadata": {},
     "output_type": "execute_result"
    }
   ],
   "source": [
    "reverse('narayana')"
   ]
  },
  {
   "cell_type": "code",
   "execution_count": 5,
   "metadata": {},
   "outputs": [],
   "source": [
    "l1 = [3,   4,   5,   7,   1,  8,  9]   # 7\n",
    "l2 = [\"Q\", \"P\", \"A\", \"Z\", \"T\",'x','c']  #5\n",
    "\n",
    "len1 = len(l1)\n",
    "len2 = len(l2)\n",
    "\n",
    "if len1 == len2:\n",
    "    a = list(zip(l1, l2))\n",
    "else:\n",
    "    print(\"no zip operartion\")"
   ]
  },
  {
   "cell_type": "code",
   "execution_count": 6,
   "metadata": {},
   "outputs": [
    {
     "data": {
      "text/plain": [
       "[(3, 'Q'), (4, 'P'), (5, 'A'), (7, 'Z'), (1, 'T'), (8, 'x'), (9, 'c')]"
      ]
     },
     "execution_count": 6,
     "metadata": {},
     "output_type": "execute_result"
    }
   ],
   "source": [
    "a"
   ]
  },
  {
   "cell_type": "code",
   "execution_count": 7,
   "metadata": {},
   "outputs": [],
   "source": [
    "l3=[2,3,4,4,5,6]"
   ]
  },
  {
   "cell_type": "code",
   "execution_count": 8,
   "metadata": {},
   "outputs": [],
   "source": [
    "b=list(zip(l1,l3))"
   ]
  },
  {
   "cell_type": "code",
   "execution_count": 9,
   "metadata": {},
   "outputs": [
    {
     "data": {
      "text/plain": [
       "[(3, 2), (4, 3), (5, 4), (7, 4), (1, 5), (8, 6)]"
      ]
     },
     "execution_count": 9,
     "metadata": {},
     "output_type": "execute_result"
    }
   ],
   "source": [
    "b"
   ]
  },
  {
   "cell_type": "code",
   "execution_count": 11,
   "metadata": {},
   "outputs": [
    {
     "ename": "NameError",
     "evalue": "name 'reduce' is not defined",
     "output_type": "error",
     "traceback": [
      "\u001b[1;31m---------------------------------------------------------------------------\u001b[0m",
      "\u001b[1;31mNameError\u001b[0m                                 Traceback (most recent call last)",
      "\u001b[1;32m<ipython-input-11-d9a466c49329>\u001b[0m in \u001b[0;36m<module>\u001b[1;34m\u001b[0m\n\u001b[1;32m----> 1\u001b[1;33m \u001b[0mcum_sum\u001b[0m \u001b[1;33m=\u001b[0m \u001b[0mreduce\u001b[0m\u001b[1;33m(\u001b[0m\u001b[1;32mlambda\u001b[0m \u001b[0mx\u001b[0m\u001b[1;33m,\u001b[0m \u001b[0my\u001b[0m\u001b[1;33m:\u001b[0m \u001b[0mx\u001b[0m \u001b[1;33m+\u001b[0m \u001b[0my\u001b[0m\u001b[1;33m,\u001b[0m \u001b[1;33m[\u001b[0m\u001b[1;36m5\u001b[0m\u001b[1;33m,\u001b[0m \u001b[1;36m6\u001b[0m\u001b[1;33m,\u001b[0m \u001b[1;36m7\u001b[0m\u001b[1;33m,\u001b[0m \u001b[1;36m8\u001b[0m\u001b[1;33m,\u001b[0m \u001b[1;36m9\u001b[0m\u001b[1;33m,\u001b[0m \u001b[1;36m1\u001b[0m\u001b[1;33m]\u001b[0m\u001b[1;33m)\u001b[0m\u001b[1;33m\u001b[0m\u001b[1;33m\u001b[0m\u001b[0m\n\u001b[0m\u001b[0;32m      2\u001b[0m \u001b[0mprint\u001b[0m\u001b[1;33m(\u001b[0m\u001b[0mcum_sum\u001b[0m\u001b[1;33m)\u001b[0m\u001b[1;33m\u001b[0m\u001b[1;33m\u001b[0m\u001b[0m\n",
      "\u001b[1;31mNameError\u001b[0m: name 'reduce' is not defined"
     ]
    }
   ],
   "source": [
    "cum_sum = reduce(lambda x, y: x + y, [5, 6, 7, 8, 9, 1])\n",
    "print(cum_sum)"
   ]
  },
  {
   "cell_type": "code",
   "execution_count": 13,
   "metadata": {},
   "outputs": [],
   "source": [
    "h=open('hadoopnotes.txt','r+')"
   ]
  },
  {
   "cell_type": "code",
   "execution_count": 14,
   "metadata": {},
   "outputs": [
    {
     "data": {
      "text/plain": [
       "'hadoop3.3.1 doenload link:\\nwget https://dlcdn.apache.org/hadoop/common/hadoop-3.3.1/hadoop-3.3.1.tar.gz\\n\\n\\ntar xzf hadoop-3.3.1.tar.gz \\nsudo mv -f hadoop-3.3.1 /opt\\nsudo chown ${USER}:${USER} -R /opt/hadoop-3.3.1(change owner)\\nsudo ln -s /opt/hadoop-3.3.1 /opt/hadoop(create an softlink for opt/hadoop-3.3.2 as /opt/hadoop)\\n*************************************************************************************************\\nconfigure hadoop hdfs:\\nnano /opt/hadoop/etc/hadoop/core-site.xml\\n\\n<configuration>\\n    <property>\\n        <name>fs.defaultFS</name>\\n        <value>hdfs://localhost:9000</value>\\n    </property>\\n</configuration>\\n\\nnano /opt/hadoop/etc/hadoop/hdfs-site.xml:\\n<configuration>\\n<property>\\n        <name>dfs.namenode.name.dir</name>\\n        <value>/opt/hadoop/dfs/name</value>\\n    </property>\\n    <property>\\n        <name>dfs.namenode.checkpoint.dir</name>\\n        <value>/opt/hadoop/dfs/namesecondary</value>\\n    </property>\\n    <property>\\n        <name>dfs.datanode.data.dir</name>\\n        <value>/opt/hadoop/dfs/data</value>\\n    </property>\\n    <property>\\n        <name>dfs.replication</name>\\n        <value>1</value>\\n    </property>\\n</configuration>\\n\\n.profile.:\\nexport HADOOP_HOME=/opt/hadoop\\nexport PATH=$PATH:$HADOOP_HOME/bin:$HADOOP_HOME/sbin\\n \\nexport JAVA_HOME=/usr/lib/jvm/java-1.8.0-openjdk-amd64\\n**************************************************************************************\\nnano /opt/hadoop/etc/hadoop/hadoop-env.sh\\nexport JAVA_HOME=/usr/lib/jvm/java-1.8.0-openjdk-amd64\\nexport HADOOP_OS_TYPE=${HADOOP_OS_TYPE:-$(uname -s)}\\n*************************************************************************************\\nhdfs namenode formate\\nnano /opt/hadoop/etc/hadoop/yarn-site.xml\\n\\n<property>\\n        <name>yarn.nodemanager.aux-services</name>\\n        <value>mapreduce_shuffle</value>\\n    </property>\\n    <property>\\n        <name>yarn.nodemanager.env-whitelist</name>\\n        <value>JAVA_HOME,HADOOP_COMMON_HOME,HADOOP_HDFS_HOME,HADOOP_CONF_DIR,CLASSPATH_PREPEND_DISTCACHE,HADOOP_YARN_HOME,HADOOP_MAPRED_HOME</value>\\n    </property>\\n22@@@@@@@@@@@@@@@@@@@@@@@@@@@@@@@@@@@@@@@@@@@@@@@@@@@@@@@@@@@@@@@@@@@@@@@@@@@@@@@@@@@@@@@@@@@@@@@@@@@@@@@@\\nnano /opt/hadoop/etc/hadoop/mapred-site.xml\\n<property>\\n        <name>mapreduce.framework.name</name>\\n        <value>yarn</value>\\n    </property>\\n    <property>\\n        <name>mapreduce.application.classpath</name>\\n        <value>$HADOOP_MAPRED_HOME/share/hadoop/mapreduce/*:$HADOOP_MAPRED_HOME/share/hadoop/mapreduce/lib/*</value>\\n    </property>\\n\\n**********************************************************************************************************\\ngit clone https://github.com/dgadiraju/retail_db.git\\ndyi8wix2y78qorsu9vhzy1fuhmj9cu21\\n'"
      ]
     },
     "execution_count": 14,
     "metadata": {},
     "output_type": "execute_result"
    }
   ],
   "source": [
    "h.read()"
   ]
  },
  {
   "cell_type": "code",
   "execution_count": 15,
   "metadata": {},
   "outputs": [
    {
     "data": {
      "text/plain": [
       "''"
      ]
     },
     "execution_count": 15,
     "metadata": {},
     "output_type": "execute_result"
    }
   ],
   "source": [
    "h.read()"
   ]
  },
  {
   "cell_type": "code",
   "execution_count": 16,
   "metadata": {},
   "outputs": [
    {
     "data": {
      "text/plain": [
       "0"
      ]
     },
     "execution_count": 16,
     "metadata": {},
     "output_type": "execute_result"
    }
   ],
   "source": [
    "h.seek(0)"
   ]
  },
  {
   "cell_type": "code",
   "execution_count": 17,
   "metadata": {},
   "outputs": [
    {
     "data": {
      "text/plain": [
       "'hadoop3.3.1 doenload link:\\nwget https://dlcdn.apache.org/hadoop/common/hadoop-3.3.1/hadoop-3.3.1.tar.gz\\n\\n\\ntar xzf hadoop-3.3.1.tar.gz \\nsudo mv -f hadoop-3.3.1 /opt\\nsudo chown ${USER}:${USER} -R /opt/hadoop-3.3.1(change owner)\\nsudo ln -s /opt/hadoop-3.3.1 /opt/hadoop(create an softlink for opt/hadoop-3.3.2 as /opt/hadoop)\\n*************************************************************************************************\\nconfigure hadoop hdfs:\\nnano /opt/hadoop/etc/hadoop/core-site.xml\\n\\n<configuration>\\n    <property>\\n        <name>fs.defaultFS</name>\\n        <value>hdfs://localhost:9000</value>\\n    </property>\\n</configuration>\\n\\nnano /opt/hadoop/etc/hadoop/hdfs-site.xml:\\n<configuration>\\n<property>\\n        <name>dfs.namenode.name.dir</name>\\n        <value>/opt/hadoop/dfs/name</value>\\n    </property>\\n    <property>\\n        <name>dfs.namenode.checkpoint.dir</name>\\n        <value>/opt/hadoop/dfs/namesecondary</value>\\n    </property>\\n    <property>\\n        <name>dfs.datanode.data.dir</name>\\n        <value>/opt/hadoop/dfs/data</value>\\n    </property>\\n    <property>\\n        <name>dfs.replication</name>\\n        <value>1</value>\\n    </property>\\n</configuration>\\n\\n.profile.:\\nexport HADOOP_HOME=/opt/hadoop\\nexport PATH=$PATH:$HADOOP_HOME/bin:$HADOOP_HOME/sbin\\n \\nexport JAVA_HOME=/usr/lib/jvm/java-1.8.0-openjdk-amd64\\n**************************************************************************************\\nnano /opt/hadoop/etc/hadoop/hadoop-env.sh\\nexport JAVA_HOME=/usr/lib/jvm/java-1.8.0-openjdk-amd64\\nexport HADOOP_OS_TYPE=${HADOOP_OS_TYPE:-$(uname -s)}\\n*************************************************************************************\\nhdfs namenode formate\\nnano /opt/hadoop/etc/hadoop/yarn-site.xml\\n\\n<property>\\n        <name>yarn.nodemanager.aux-services</name>\\n        <value>mapreduce_shuffle</value>\\n    </property>\\n    <property>\\n        <name>yarn.nodemanager.env-whitelist</name>\\n        <value>JAVA_HOME,HADOOP_COMMON_HOME,HADOOP_HDFS_HOME,HADOOP_CONF_DIR,CLASSPATH_PREPEND_DISTCACHE,HADOOP_YARN_HOME,HADOOP_MAPRED_HOME</value>\\n    </property>\\n22@@@@@@@@@@@@@@@@@@@@@@@@@@@@@@@@@@@@@@@@@@@@@@@@@@@@@@@@@@@@@@@@@@@@@@@@@@@@@@@@@@@@@@@@@@@@@@@@@@@@@@@@\\nnano /opt/hadoop/etc/hadoop/mapred-site.xml\\n<property>\\n        <name>mapreduce.framework.name</name>\\n        <value>yarn</value>\\n    </property>\\n    <property>\\n        <name>mapreduce.application.classpath</name>\\n        <value>$HADOOP_MAPRED_HOME/share/hadoop/mapreduce/*:$HADOOP_MAPRED_HOME/share/hadoop/mapreduce/lib/*</value>\\n    </property>\\n\\n**********************************************************************************************************\\ngit clone https://github.com/dgadiraju/retail_db.git\\ndyi8wix2y78qorsu9vhzy1fuhmj9cu21\\n'"
      ]
     },
     "execution_count": 17,
     "metadata": {},
     "output_type": "execute_result"
    }
   ],
   "source": [
    "h.read()"
   ]
  },
  {
   "cell_type": "code",
   "execution_count": 18,
   "metadata": {},
   "outputs": [
    {
     "data": {
      "text/plain": [
       "2778"
      ]
     },
     "execution_count": 18,
     "metadata": {},
     "output_type": "execute_result"
    }
   ],
   "source": [
    "h.tell()"
   ]
  },
  {
   "cell_type": "code",
   "execution_count": 20,
   "metadata": {},
   "outputs": [
    {
     "data": {
      "text/plain": [
       "1"
      ]
     },
     "execution_count": 20,
     "metadata": {},
     "output_type": "execute_result"
    }
   ],
   "source": [
    "h.seek(1)"
   ]
  },
  {
   "cell_type": "code",
   "execution_count": 21,
   "metadata": {},
   "outputs": [
    {
     "data": {
      "text/plain": [
       "'a'"
      ]
     },
     "execution_count": 21,
     "metadata": {},
     "output_type": "execute_result"
    }
   ],
   "source": [
    "h.read(1)"
   ]
  },
  {
   "cell_type": "code",
   "execution_count": 22,
   "metadata": {},
   "outputs": [
    {
     "data": {
      "text/plain": [
       "2"
      ]
     },
     "execution_count": 22,
     "metadata": {},
     "output_type": "execute_result"
    }
   ],
   "source": [
    "h.tell()"
   ]
  },
  {
   "cell_type": "code",
   "execution_count": 23,
   "metadata": {},
   "outputs": [
    {
     "data": {
      "text/plain": [
       "13"
      ]
     },
     "execution_count": 23,
     "metadata": {},
     "output_type": "execute_result"
    }
   ],
   "source": [
    "h.write('narayanareddy')"
   ]
  },
  {
   "cell_type": "code",
   "execution_count": 24,
   "metadata": {},
   "outputs": [
    {
     "data": {
      "text/plain": [
       "''"
      ]
     },
     "execution_count": 24,
     "metadata": {},
     "output_type": "execute_result"
    }
   ],
   "source": [
    "h.read()"
   ]
  },
  {
   "cell_type": "code",
   "execution_count": 25,
   "metadata": {},
   "outputs": [
    {
     "data": {
      "text/plain": [
       "2778"
      ]
     },
     "execution_count": 25,
     "metadata": {},
     "output_type": "execute_result"
    }
   ],
   "source": [
    "h.seek(2778)"
   ]
  },
  {
   "cell_type": "code",
   "execution_count": 26,
   "metadata": {},
   "outputs": [
    {
     "data": {
      "text/plain": [
       "'narayanareddy'"
      ]
     },
     "execution_count": 26,
     "metadata": {},
     "output_type": "execute_result"
    }
   ],
   "source": [
    "h.read()"
   ]
  },
  {
   "cell_type": "code",
   "execution_count": 27,
   "metadata": {},
   "outputs": [],
   "source": [
    "h.close()"
   ]
  },
  {
   "cell_type": "code",
   "execution_count": 28,
   "metadata": {},
   "outputs": [
    {
     "ename": "ValueError",
     "evalue": "I/O operation on closed file.",
     "output_type": "error",
     "traceback": [
      "\u001b[1;31m---------------------------------------------------------------------------\u001b[0m",
      "\u001b[1;31mValueError\u001b[0m                                Traceback (most recent call last)",
      "\u001b[1;32m<ipython-input-28-8cd4df731455>\u001b[0m in \u001b[0;36m<module>\u001b[1;34m\u001b[0m\n\u001b[1;32m----> 1\u001b[1;33m \u001b[0mh\u001b[0m\u001b[1;33m.\u001b[0m\u001b[0mread\u001b[0m\u001b[1;33m(\u001b[0m\u001b[1;33m)\u001b[0m\u001b[1;33m\u001b[0m\u001b[1;33m\u001b[0m\u001b[0m\n\u001b[0m",
      "\u001b[1;31mValueError\u001b[0m: I/O operation on closed file."
     ]
    }
   ],
   "source": [
    "h.read()"
   ]
  },
  {
   "cell_type": "code",
   "execution_count": 29,
   "metadata": {},
   "outputs": [
    {
     "name": "stdout",
     "output_type": "stream",
     "text": [
      "right\n",
      "Architect\n",
      "Right\n",
      "tea taster\n"
     ]
    }
   ],
   "source": [
    "class Father:\n",
    "    hand=\"right\"\n",
    "    occup = \"Doctor\"\n",
    "    \n",
    "class Mother:\n",
    "    hand =\"left\"\n",
    "    occup = \"Engineer\"\n",
    "    \n",
    "class Child(Father,Mother):\n",
    "    occup =\"Architect\"\n",
    "class Child1(Mother,Father):\n",
    "    hand = \"Right\"\n",
    "    occup=\"tea taster\"\n",
    "\n",
    "kumar = Child()\n",
    "santosh = Child1()\n",
    "\n",
    "#print (dir(kumar))\n",
    "#print (dir(santosh))\n",
    "print (kumar.hand)\n",
    "print (kumar.occup)\n",
    "print (santosh.hand)\n",
    "print (santosh.occup)"
   ]
  },
  {
   "cell_type": "code",
   "execution_count": 31,
   "metadata": {},
   "outputs": [],
   "source": [
    "dict1={1:'a',2:\"b\",3:'c'}\n",
    "dict2={1:'c',2:'5',4:'6'}"
   ]
  },
  {
   "cell_type": "code",
   "execution_count": 32,
   "metadata": {},
   "outputs": [],
   "source": [
    "dict1.update(dict2)"
   ]
  },
  {
   "cell_type": "code",
   "execution_count": 33,
   "metadata": {},
   "outputs": [
    {
     "data": {
      "text/plain": [
       "{1: 'c', 2: '5', 3: 'c', 4: '6'}"
      ]
     },
     "execution_count": 33,
     "metadata": {},
     "output_type": "execute_result"
    }
   ],
   "source": [
    "dict1"
   ]
  },
  {
   "cell_type": "code",
   "execution_count": null,
   "metadata": {},
   "outputs": [],
   "source": []
  }
 ],
 "metadata": {
  "kernelspec": {
   "display_name": "Python 3",
   "language": "python",
   "name": "python3"
  },
  "language_info": {
   "codemirror_mode": {
    "name": "ipython",
    "version": 3
   },
   "file_extension": ".py",
   "mimetype": "text/x-python",
   "name": "python",
   "nbconvert_exporter": "python",
   "pygments_lexer": "ipython3",
   "version": "3.7.4"
  }
 },
 "nbformat": 4,
 "nbformat_minor": 2
}
