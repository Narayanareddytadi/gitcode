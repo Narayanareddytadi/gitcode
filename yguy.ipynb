{
 "cells": [
  {
   "cell_type": "code",
   "execution_count": null,
   "metadata": {},
   "outputs": [],
   "source": [
    "The dataset is designed for machine learning classification tasks and contains in total 60 000 training and 10 000 test images (gray scale) with each 28x28 pixel. Each training and test case is associated with one of ten labels (0–9)\n"
   ]
  },
  {
   "cell_type": "code",
   "execution_count": 3,
   "metadata": {},
   "outputs": [
    {
     "name": "stderr",
     "output_type": "stream",
     "text": [
      "Using TensorFlow backend.\n"
     ]
    }
   ],
   "source": [
    "# Import required packages and functions and set the session seed\n",
    "import numpy as np\n",
    "np.random.seed(1234)\n",
    "import tensorflow as tf\n",
    "from tensorflow import keras\n",
    "import matplotlib.pyplot as plt\n",
    "import keras\n",
    "from keras.models import Sequential\n",
    "from keras.layers import Dense, Activation, Flatten, Conv2D, MaxPooling2D\n",
    "from keras.layers import Dropout, SpatialDropout2D\n",
    "from keras.applications import VGG19\n",
    "from keras.applications.vgg19 import preprocess_input\n",
    "from keras.models import Model\n",
    "from keras.datasets import fashion_mnist\n",
    "from keras.utils import to_categorical\n",
    "from keras import models\n",
    "from keras import layers\n",
    "from keras import optimizers"
   ]
  },
  {
   "cell_type": "code",
   "execution_count": 8,
   "metadata": {},
   "outputs": [],
   "source": [
    "# Load the Fashion MNIST data from Keras\n",
    "(train_images, train_labels), (test_images, test_labels) = fashion_mnist.load_data()"
   ]
  },
  {
   "cell_type": "code",
   "execution_count": 5,
   "metadata": {},
   "outputs": [],
   "source": [
    "# Normalize the image data by dividing through the maximum pixel value (=255)\n",
    "train_images = train_images / train_images.max()\n",
    "test_images = test_images / test_images.max()"
   ]
  },
  {
   "cell_type": "markdown",
   "metadata": {},
   "source": [
    "We start by building a simple neural network containing one hidden layer. Note that as here we use the untransformed but normalized data, we need to flatten the 28 by 28 pixels input first. We add one hidden densely-connected layer which performs output = relu(dot(input, kernel) + bias), where the rectified linear unit (relu) activation function has been proven to work well. We set the number of nodes equal to 128, because this seems to work well in our case. The number of nodes could essentially be any of the numbers 32, 64, 128, 256 and 512, as these are in a sequence of multiples between the number of nodes in the output (= 10) and input (= 784) layers. The softmax layer then assigns predicted probabilities to each of the ten clothing categories, which is also why there are ten nodes in this layer."
   ]
  },
  {
   "cell_type": "code",
   "execution_count": 6,
   "metadata": {},
   "outputs": [
    {
     "name": "stdout",
     "output_type": "stream",
     "text": [
      "WARNING:tensorflow:From C:\\ProgramData\\Anaconda3\\lib\\site-packages\\tensorflow_core\\python\\ops\\resource_variable_ops.py:1630: calling BaseResourceVariable.__init__ (from tensorflow.python.ops.resource_variable_ops) with constraint is deprecated and will be removed in a future version.\n",
      "Instructions for updating:\n",
      "If using Keras pass *_constraint arguments to layers.\n"
     ]
    }
   ],
   "source": [
    "# Build a simple three-layer (1 hidden layer) model\n",
    "# The input size is 28 x 28 pixels and is flattened to a vector of length 784\n",
    "# The activation function is RELU (rectified linear unit) and performs the \n",
    "# multiplication of input and weights (plus bias)\n",
    "# The output (softmax) layer returns probabilities for all ten classes\n",
    "three_layer_model = Sequential()\n",
    "three_layer_model.add(Flatten(input_shape = (28, 28)))\n",
    "three_layer_model.add(Dense(128, activation = 'relu'))\n",
    "three_layer_model.add(Dense(10, activation = 'softmax'))"
   ]
  },
  {
   "cell_type": "markdown",
   "metadata": {},
   "source": [
    "After building the neural network, we compile it. We specify sparse_categorical_crossentropy as the loss function, which is suitable for categorical multi-class responses. The optimizer controls the learning rate; adam (adaptive moment estimation) is similar to classical stochastic gradient descent and usually a safe choice for the optimizer. We set our metric of interest to be the accuracy, or the percentage of correctly classified images. Hereafter, we fit the model onto our training data set using ten iterations through the training data (“epochs”). Here, 70% is used for training and 30% is used for validation.\n",
    "\n"
   ]
  },
  {
   "cell_type": "code",
   "execution_count": 7,
   "metadata": {},
   "outputs": [
    {
     "name": "stdout",
     "output_type": "stream",
     "text": [
      "WARNING:tensorflow:From C:\\ProgramData\\Anaconda3\\lib\\site-packages\\keras\\backend\\tensorflow_backend.py:422: The name tf.global_variables is deprecated. Please use tf.compat.v1.global_variables instead.\n",
      "\n",
      "Train on 42000 samples, validate on 18000 samples\n",
      "Epoch 1/10\n",
      " - 11s - loss: 0.5336 - accuracy: 0.8143 - val_loss: 0.4403 - val_accuracy: 0.8492\n",
      "Epoch 2/10\n",
      " - 10s - loss: 0.3992 - accuracy: 0.8575 - val_loss: 0.3984 - val_accuracy: 0.8622\n",
      "Epoch 3/10\n",
      " - 10s - loss: 0.3572 - accuracy: 0.8713 - val_loss: 0.3596 - val_accuracy: 0.8677\n",
      "Epoch 4/10\n",
      " - 10s - loss: 0.3285 - accuracy: 0.8795 - val_loss: 0.3622 - val_accuracy: 0.8682\n",
      "Epoch 5/10\n",
      " - 10s - loss: 0.3070 - accuracy: 0.8873 - val_loss: 0.3440 - val_accuracy: 0.8759\n",
      "Epoch 6/10\n",
      " - 10s - loss: 0.2927 - accuracy: 0.8924 - val_loss: 0.3270 - val_accuracy: 0.8839\n",
      "Epoch 7/10\n",
      " - 10s - loss: 0.2784 - accuracy: 0.8975 - val_loss: 0.3323 - val_accuracy: 0.8822\n",
      "Epoch 8/10\n",
      " - 10s - loss: 0.2660 - accuracy: 0.9003 - val_loss: 0.3339 - val_accuracy: 0.8839\n",
      "Epoch 9/10\n",
      " - 10s - loss: 0.2572 - accuracy: 0.9042 - val_loss: 0.3477 - val_accuracy: 0.8786\n",
      "Epoch 10/10\n",
      " - 10s - loss: 0.2479 - accuracy: 0.9069 - val_loss: 0.3478 - val_accuracy: 0.8759\n"
     ]
    },
    {
     "data": {
      "text/plain": [
       "<keras.callbacks.callbacks.History at 0x1da3b35b4c8>"
      ]
     },
     "execution_count": 7,
     "metadata": {},
     "output_type": "execute_result"
    }
   ],
   "source": [
    "# Compile the model with accuracy metric and adam optimizer\n",
    "# Sparse categorical cross-entropy is the loss function for integer labels\n",
    "# Fit the model using 70 percent of the data and 10 epochs\n",
    "three_layer_model.compile(loss = 'sparse_categorical_crossentropy', \n",
    "                          optimizer = 'adam', metrics = ['accuracy'])\n",
    "three_layer_model.fit(train_images, train_labels, epochs = 10, \n",
    "                      validation_split = 0.3, verbose = 2)"
   ]
  },
  {
   "cell_type": "markdown",
   "metadata": {},
   "source": [
    "Next, we print the results of the model in terms of training and testing loss and accuracy.\n",
    "\n"
   ]
  },
  {
   "cell_type": "code",
   "execution_count": 8,
   "metadata": {},
   "outputs": [
    {
     "name": "stdout",
     "output_type": "stream",
     "text": [
      "10000/10000 [==============================] - 0s 48us/step\n",
      "Model with three layers and ten epochs -- Test loss: 37.564722998142244\n",
      "Model with three layers and ten epochs -- Test accuracy: 87.09\n"
     ]
    }
   ],
   "source": [
    "# Compute and print the test loss and accuracy\n",
    "test_loss, test_acc = three_layer_model.evaluate(test_images, test_labels)\n",
    "print(\"Model with three layers and ten epochs -- Test loss:\", test_loss * 100)\n",
    "print(\"Model with three layers and ten epochs -- Test accuracy:\", test_acc * 100)"
   ]
  },
  {
   "cell_type": "markdown",
   "metadata": {},
   "source": [
    "We can see that the neural network with one hidden layer already performs relatively well with a test accuracy of 87.09%. However, it seems like we are slightly overfitting (i.e. the model is fitted too well to a particular data set and therefore does not well extend to other data sets), as the training set accuracy (88.15%) is slightly higher than the test set accuracy. There are several ways to avoid overfitting in neural networks, such as simplifying our model by reducing the number of hidden layers and neurons, adding dropout layers that randomly remove some of the connections between layers, and early stopping when validation loss starts to increase. Later on in this post, I will demonstrate some of these methods to you. For further reading, I personally like this and this post showing how to avoid overfitting when building neural networks using keras. Instead, to see whether a deep neural network performs better at predicting clothing categories, we build a neural network with three hidden layers in a similar way as before."
   ]
  },
  {
   "cell_type": "code",
   "execution_count": 9,
   "metadata": {},
   "outputs": [],
   "source": [
    "# Similarly as before, build a five-layer (3 hidden layers) model\n",
    "five_layer_model = Sequential()\n",
    "five_layer_model.add(Flatten(input_shape = (28, 28)))\n",
    "five_layer_model.add(Dense(128, activation = 'relu'))\n",
    "five_layer_model.add(Dense(128, activation = 'relu'))\n",
    "five_layer_model.add(Dense(128, activation = 'relu'))\n",
    "five_layer_model.add(Dense(10, activation = 'softmax'))"
   ]
  },
  {
   "cell_type": "code",
   "execution_count": 10,
   "metadata": {},
   "outputs": [
    {
     "name": "stdout",
     "output_type": "stream",
     "text": [
      "Train on 42000 samples, validate on 18000 samples\n",
      "Epoch 1/10\n",
      " - 8s - loss: 0.5244 - acc: 0.8120 - val_loss: 0.4311 - val_acc: 0.8476\n",
      "Epoch 2/10\n",
      " - 7s - loss: 0.3799 - acc: 0.8594 - val_loss: 0.3547 - val_acc: 0.8723\n",
      "Epoch 3/10\n",
      " - 7s - loss: 0.3435 - acc: 0.8731 - val_loss: 0.3834 - val_acc: 0.8597\n",
      "Epoch 4/10\n",
      " - 7s - loss: 0.3204 - acc: 0.8816 - val_loss: 0.4051 - val_acc: 0.8595\n",
      "Epoch 5/10\n",
      " - 7s - loss: 0.3008 - acc: 0.8876 - val_loss: 0.3801 - val_acc: 0.8619\n",
      "Epoch 6/10\n",
      " - 7s - loss: 0.2855 - acc: 0.8920 - val_loss: 0.3164 - val_acc: 0.8858\n",
      "Epoch 7/10\n",
      " - 7s - loss: 0.2716 - acc: 0.8976 - val_loss: 0.3603 - val_acc: 0.8739\n",
      "Epoch 8/10\n",
      " - 7s - loss: 0.2613 - acc: 0.9010 - val_loss: 0.3277 - val_acc: 0.8859\n",
      "Epoch 9/10\n",
      " - 7s - loss: 0.2478 - acc: 0.9065 - val_loss: 0.3611 - val_acc: 0.8738\n",
      "Epoch 10/10\n",
      " - 7s - loss: 0.2426 - acc: 0.9096 - val_loss: 0.3602 - val_acc: 0.8701\n"
     ]
    },
    {
     "data": {
      "text/plain": [
       "<keras.callbacks.History at 0x1b36d956bc8>"
      ]
     },
     "execution_count": 10,
     "metadata": {},
     "output_type": "execute_result"
    }
   ],
   "source": [
    "# Compile the model with accuracy metric and adam optimizer\n",
    "# Fit the model using 70 percent of the data and 10 epochs\n",
    "five_layer_model.compile(loss = 'sparse_categorical_crossentropy', \n",
    "                         optimizer = 'adam', metrics = ['accuracy'])\n",
    "five_layer_model.fit(train_images, train_labels, epochs = 10, \n",
    "                     validation_split = 0.3, verbose = 2)"
   ]
  },
  {
   "cell_type": "code",
   "execution_count": 11,
   "metadata": {},
   "outputs": [
    {
     "name": "stdout",
     "output_type": "stream",
     "text": [
      "10000/10000 [==============================] - 1s 57us/step\n",
      "Model with five layers and ten epochs -- Test loss: 38.866063070297244\n",
      "Model with five layers and ten epochs -- Test accuracy: 86.4\n"
     ]
    }
   ],
   "source": [
    "# Compute and print the test loss and accuracy\n",
    "test_loss, test_acc = five_layer_model.evaluate(test_images, test_labels)\n",
    "print(\"Model with five layers and ten epochs -- Test loss:\", test_loss * 100)\n",
    "print(\"Model with five layers and ten epochs -- Test accuracy:\", test_acc * 100)"
   ]
  },
  {
   "cell_type": "markdown",
   "metadata": {},
   "source": [
    "It seems like the model with two additional layers does not perform better than the previous one with only one hidden layer, given that both the training (87.42%) and test set (86.03%) accuracies are lower and the loss (38.49) is higher. Let’s try whether adding another five hidden layers improves model performance, or whether we can include that increasing model complexity does not improve performance."
   ]
  },
  {
   "cell_type": "code",
   "execution_count": 12,
   "metadata": {},
   "outputs": [],
   "source": [
    "# Similarly as before, build a ten-layer (8 hidden layers) model\n",
    "ten_layer_model = Sequential()\n",
    "ten_layer_model.add(Flatten(input_shape = (28, 28)))\n",
    "ten_layer_model.add(Dense(128, activation = 'relu'))\n",
    "ten_layer_model.add(Dense(128, activation = 'relu'))\n",
    "ten_layer_model.add(Dense(128, activation = 'relu'))\n",
    "ten_layer_model.add(Dense(128, activation = 'relu'))\n",
    "ten_layer_model.add(Dense(128, activation = 'relu'))\n",
    "ten_layer_model.add(Dense(128, activation = 'relu'))\n",
    "ten_layer_model.add(Dense(128, activation = 'relu'))\n",
    "ten_layer_model.add(Dense(128, activation = 'relu'))\n",
    "ten_layer_model.add(Dense(10, activation = 'softmax'))"
   ]
  },
  {
   "cell_type": "code",
   "execution_count": 13,
   "metadata": {},
   "outputs": [
    {
     "name": "stdout",
     "output_type": "stream",
     "text": [
      "Train on 42000 samples, validate on 18000 samples\n",
      "Epoch 1/10\n",
      " - 12s - loss: 0.5908 - acc: 0.7852 - val_loss: 0.4850 - val_acc: 0.8327\n",
      "Epoch 2/10\n",
      " - 10s - loss: 0.4296 - acc: 0.8448 - val_loss: 0.4259 - val_acc: 0.8468\n",
      "Epoch 3/10\n",
      " - 10s - loss: 0.3886 - acc: 0.8616 - val_loss: 0.4002 - val_acc: 0.8511\n",
      "Epoch 4/10\n",
      " - 11s - loss: 0.3638 - acc: 0.8689 - val_loss: 0.4008 - val_acc: 0.8636\n",
      "Epoch 5/10\n",
      " - 11s - loss: 0.3470 - acc: 0.8749 - val_loss: 0.3682 - val_acc: 0.8678\n",
      "Epoch 6/10\n",
      " - 11s - loss: 0.3259 - acc: 0.8809 - val_loss: 0.3866 - val_acc: 0.8661\n",
      "Epoch 7/10\n",
      " - 10s - loss: 0.3130 - acc: 0.8876 - val_loss: 0.3562 - val_acc: 0.8729\n",
      "Epoch 8/10\n",
      " - 10s - loss: 0.3056 - acc: 0.8889 - val_loss: 0.3682 - val_acc: 0.8696\n",
      "Epoch 9/10\n",
      " - 10s - loss: 0.2922 - acc: 0.8935 - val_loss: 0.3439 - val_acc: 0.8809\n",
      "Epoch 10/10\n",
      " - 10s - loss: 0.2793 - acc: 0.8992 - val_loss: 0.3399 - val_acc: 0.8829\n"
     ]
    },
    {
     "data": {
      "text/plain": [
       "<keras.callbacks.History at 0x1b36ddb8108>"
      ]
     },
     "execution_count": 13,
     "metadata": {},
     "output_type": "execute_result"
    }
   ],
   "source": [
    "# Compile the model with accuracy metric and adam optimizer\n",
    "# Fit the model using 70 percent of the data and 10 epochs\n",
    "ten_layer_model.compile(loss = 'sparse_categorical_crossentropy', \n",
    "                        optimizer = 'adam', metrics = ['accuracy'])\n",
    "ten_layer_model.fit(train_images, train_labels, epochs = 10, \n",
    "                    validation_split = 0.3, verbose = 2)"
   ]
  },
  {
   "cell_type": "code",
   "execution_count": 14,
   "metadata": {},
   "outputs": [
    {
     "name": "stdout",
     "output_type": "stream",
     "text": [
      "10000/10000 [==============================] - 1s 83us/step\n",
      "Model with ten layers and ten epochs -- Test loss: 36.5664215695858\n",
      "Model with ten layers and ten epochs -- Test accuracy: 87.61\n"
     ]
    }
   ],
   "source": [
    "# Compute and print the test loss and accuracy\n",
    "test_loss, test_acc = ten_layer_model.evaluate(test_images, test_labels)\n",
    "print(\"Model with ten layers and ten epochs -- Test loss:\", test_loss * 100)\n",
    "print(\"Model with ten layers and ten epochs -- Test accuracy:\", test_acc * 100)"
   ]
  },
  {
   "cell_type": "markdown",
   "metadata": {},
   "source": [
    "The model with eight hidden layers performs best in terms of training (88.21%) and test (87.58%) accuracy as well as loss (36.12). Nevertheless, the difference in performance between the first model with one hidden layer and the current model with eight hidden layers is only quite small. Although it seems that with so many hidden layers, we can model additional complexity that improves the accuracy of the model, we must ask ourselves whether increasing model complexity at the cost of interpretability and computational feasibility is worth this slight improvement in accuracy and loss.\n",
    "\n",
    "Now that we have seen how the number of hidden layers affects model performance, let’s try and see whether increasing the number of epochs (i.e. the number of times the model iterates through the training data) from ten to fifty improves the performance of our first neural network with one hidden layer."
   ]
  },
  {
   "cell_type": "code",
   "execution_count": 15,
   "metadata": {},
   "outputs": [
    {
     "name": "stdout",
     "output_type": "stream",
     "text": [
      "Train on 42000 samples, validate on 18000 samples\n",
      "Epoch 1/50\n",
      " - 6s - loss: 0.2355 - acc: 0.9119 - val_loss: 0.3279 - val_acc: 0.8823\n",
      "Epoch 2/50\n",
      " - 6s - loss: 0.2266 - acc: 0.9168 - val_loss: 0.3180 - val_acc: 0.8879\n",
      "Epoch 3/50\n",
      " - 6s - loss: 0.2194 - acc: 0.9187 - val_loss: 0.3233 - val_acc: 0.8863\n",
      "Epoch 4/50\n",
      " - 6s - loss: 0.2109 - acc: 0.9218 - val_loss: 0.3260 - val_acc: 0.8878\n",
      "Epoch 5/50\n",
      " - 6s - loss: 0.2062 - acc: 0.9231 - val_loss: 0.3592 - val_acc: 0.8770\n",
      "Epoch 6/50\n",
      " - 6s - loss: 0.1960 - acc: 0.9272 - val_loss: 0.3394 - val_acc: 0.8832\n",
      "Epoch 7/50\n",
      " - 6s - loss: 0.1919 - acc: 0.9279 - val_loss: 0.3382 - val_acc: 0.8907\n",
      "Epoch 8/50\n",
      " - 6s - loss: 0.1875 - acc: 0.9299 - val_loss: 0.3392 - val_acc: 0.8894\n",
      "Epoch 9/50\n",
      " - 6s - loss: 0.1801 - acc: 0.9330 - val_loss: 0.3422 - val_acc: 0.8900\n",
      "Epoch 10/50\n",
      " - 6s - loss: 0.1758 - acc: 0.9332 - val_loss: 0.3469 - val_acc: 0.8892\n",
      "Epoch 11/50\n",
      " - 6s - loss: 0.1710 - acc: 0.9366 - val_loss: 0.3454 - val_acc: 0.8892\n",
      "Epoch 12/50\n",
      " - 6s - loss: 0.1644 - acc: 0.9388 - val_loss: 0.3825 - val_acc: 0.8784\n",
      "Epoch 13/50\n",
      " - 6s - loss: 0.1623 - acc: 0.9393 - val_loss: 0.3466 - val_acc: 0.8912\n",
      "Epoch 14/50\n",
      " - 6s - loss: 0.1557 - acc: 0.9419 - val_loss: 0.3643 - val_acc: 0.8873\n",
      "Epoch 15/50\n",
      " - 6s - loss: 0.1541 - acc: 0.9417 - val_loss: 0.3538 - val_acc: 0.8896\n",
      "Epoch 16/50\n",
      " - 6s - loss: 0.1486 - acc: 0.9465 - val_loss: 0.3764 - val_acc: 0.8844\n",
      "Epoch 17/50\n",
      " - 6s - loss: 0.1458 - acc: 0.9457 - val_loss: 0.3713 - val_acc: 0.8927\n",
      "Epoch 18/50\n",
      " - 6s - loss: 0.1413 - acc: 0.9475 - val_loss: 0.3638 - val_acc: 0.8937\n",
      "Epoch 19/50\n",
      " - 6s - loss: 0.1378 - acc: 0.9493 - val_loss: 0.3907 - val_acc: 0.8901\n",
      "Epoch 20/50\n",
      " - 6s - loss: 0.1358 - acc: 0.9496 - val_loss: 0.3865 - val_acc: 0.8904\n",
      "Epoch 21/50\n",
      " - 6s - loss: 0.1325 - acc: 0.9516 - val_loss: 0.3767 - val_acc: 0.8931\n",
      "Epoch 22/50\n",
      " - 6s - loss: 0.1293 - acc: 0.9521 - val_loss: 0.4187 - val_acc: 0.8871\n",
      "Epoch 23/50\n",
      " - 6s - loss: 0.1248 - acc: 0.9531 - val_loss: 0.3985 - val_acc: 0.8906\n",
      "Epoch 24/50\n",
      " - 6s - loss: 0.1203 - acc: 0.9552 - val_loss: 0.4317 - val_acc: 0.8867\n",
      "Epoch 25/50\n",
      " - 6s - loss: 0.1185 - acc: 0.9558 - val_loss: 0.4073 - val_acc: 0.8891\n",
      "Epoch 26/50\n",
      " - 6s - loss: 0.1179 - acc: 0.9569 - val_loss: 0.4280 - val_acc: 0.8833\n",
      "Epoch 27/50\n",
      " - 6s - loss: 0.1149 - acc: 0.9570 - val_loss: 0.4469 - val_acc: 0.8866\n",
      "Epoch 28/50\n",
      " - 7s - loss: 0.1115 - acc: 0.9592 - val_loss: 0.4181 - val_acc: 0.8906\n",
      "Epoch 29/50\n",
      " - 6s - loss: 0.1069 - acc: 0.9604 - val_loss: 0.4451 - val_acc: 0.8876\n",
      "Epoch 30/50\n",
      " - 6s - loss: 0.1075 - acc: 0.9599 - val_loss: 0.4492 - val_acc: 0.8865\n",
      "Epoch 31/50\n",
      " - 6s - loss: 0.1054 - acc: 0.9611 - val_loss: 0.4266 - val_acc: 0.8929\n",
      "Epoch 32/50\n",
      " - 6s - loss: 0.1028 - acc: 0.9625 - val_loss: 0.4386 - val_acc: 0.8878\n",
      "Epoch 33/50\n",
      " - 6s - loss: 0.0975 - acc: 0.9646 - val_loss: 0.4433 - val_acc: 0.8917\n",
      "Epoch 34/50\n",
      " - 6s - loss: 0.1028 - acc: 0.9615 - val_loss: 0.4612 - val_acc: 0.8859\n",
      "Epoch 35/50\n",
      " - 6s - loss: 0.0973 - acc: 0.9646 - val_loss: 0.4601 - val_acc: 0.8911\n",
      "Epoch 36/50\n",
      " - 6s - loss: 0.0944 - acc: 0.9661 - val_loss: 0.4863 - val_acc: 0.8884\n",
      "Epoch 37/50\n",
      " - 6s - loss: 0.0933 - acc: 0.9653 - val_loss: 0.4684 - val_acc: 0.8866\n",
      "Epoch 38/50\n",
      " - 6s - loss: 0.0876 - acc: 0.9680 - val_loss: 0.4982 - val_acc: 0.8823\n",
      "Epoch 39/50\n",
      " - 6s - loss: 0.0882 - acc: 0.9680 - val_loss: 0.5246 - val_acc: 0.8857\n",
      "Epoch 40/50\n",
      " - 6s - loss: 0.0876 - acc: 0.9665 - val_loss: 0.4885 - val_acc: 0.8869\n",
      "Epoch 41/50\n",
      " - 6s - loss: 0.0833 - acc: 0.9689 - val_loss: 0.4746 - val_acc: 0.8896\n",
      "Epoch 42/50\n",
      " - 6s - loss: 0.0834 - acc: 0.9698 - val_loss: 0.4960 - val_acc: 0.8879\n",
      "Epoch 43/50\n",
      " - 6s - loss: 0.0807 - acc: 0.9702 - val_loss: 0.4801 - val_acc: 0.8921\n",
      "Epoch 44/50\n",
      " - 6s - loss: 0.0829 - acc: 0.9694 - val_loss: 0.5105 - val_acc: 0.8888\n",
      "Epoch 45/50\n",
      " - 6s - loss: 0.0777 - acc: 0.9714 - val_loss: 0.5050 - val_acc: 0.8923\n",
      "Epoch 46/50\n",
      " - 6s - loss: 0.0747 - acc: 0.9721 - val_loss: 0.5333 - val_acc: 0.8868\n",
      "Epoch 47/50\n",
      " - 6s - loss: 0.0779 - acc: 0.9716 - val_loss: 0.5201 - val_acc: 0.8897\n",
      "Epoch 48/50\n",
      " - 6s - loss: 0.0755 - acc: 0.9733 - val_loss: 0.5678 - val_acc: 0.8830\n",
      "Epoch 49/50\n",
      " - 6s - loss: 0.0734 - acc: 0.9727 - val_loss: 0.5271 - val_acc: 0.8846\n",
      "Epoch 50/50\n",
      " - 6s - loss: 0.0718 - acc: 0.9736 - val_loss: 0.5305 - val_acc: 0.8881\n"
     ]
    }
   ],
   "source": [
    "# Compile the model with accuracy metric and adam optimizer\n",
    "# Fit the model using 70 percent of the data and 50 epochs\n",
    "three_layer_model_50_epochs = three_layer_model.fit(train_images, train_labels, \n",
    "                                                  epochs = 50, validation_split = 0.3,\n",
    "                                                  verbose = 2)"
   ]
  },
  {
   "cell_type": "code",
   "execution_count": 16,
   "metadata": {},
   "outputs": [
    {
     "name": "stdout",
     "output_type": "stream",
     "text": [
      "10000/10000 [==============================] - 1s 63us/step\n",
      "Model with three layers and fifty epochs -- Test loss: 57.36023781448603\n",
      "Model with three layers and fifty epochs -- Test accuracy: 87.99\n"
     ]
    }
   ],
   "source": [
    "# Compute and print the test loss and accuracy\n",
    "test_loss, test_acc = three_layer_model.evaluate(test_images, test_labels)\n",
    "print(\"Model with three layers and fifty epochs -- Test loss:\", test_loss * 100)\n",
    "print(\"Model with three layers and fifty epochs -- Test accuracy:\", test_acc * 100)"
   ]
  },
  {
   "cell_type": "markdown",
   "metadata": {},
   "source": [
    "The three-layer model trained with fifty epochs has the highest train (89.32%) and test (88.68%) accuracies we have seen so far. However, the loss (54.73) is also about a third larger than we have seen before. Additionally, the model is also less time-efficient, given that the increase in accuracy is not substantial but the model takes significantly longer to fit. To better understand the trade-off between minimizing loss and maximizing accuracy, we plot model loss and accuracy over the number of epochs for the training and cross-validation data."
   ]
  },
  {
   "cell_type": "code",
   "execution_count": 17,
   "metadata": {},
   "outputs": [
    {
     "data": {
      "image/png": "[encoded data removed]",
      "text/plain": [
       "<Figure size 432x288 with 2 Axes>"
      ]
     },
     "metadata": {
      "needs_background": "light"
     },
     "output_type": "display_data"
    }
   ],
   "source": [
    "# Plot loss as function of epochs\n",
    "plt.subplot(1, 2, 1)\n",
    "plt.plot(three_layer_model_50_epochs.history['val_loss'], 'blue')\n",
    "plt.plot(three_layer_model_50_epochs.history['loss'], 'red')\n",
    "plt.legend(['Cross-validation', 'Training'], loc = 'upper left')\n",
    "plt.ylabel('Loss')\n",
    "plt.xlabel('Epoch')\n",
    "\n",
    "# Plot accuracy as function of epochs\n",
    "plt.subplot(1, 2, 2)\n",
    "plt.plot(three_layer_model_50_epochs.history['val_acc'], 'blue')\n",
    "plt.plot(three_layer_model_50_epochs.history['acc'], 'red')\n",
    "plt.ylabel('Accuracy')\n",
    "plt.xlabel('Epoch')\n",
    "plt.subplots_adjust(wspace = .35)\n",
    "\n",
    "# Include plot title and show the plot\n",
    "plt.suptitle('Model loss and accuracy over epochs for a three-layer neural network')\n",
    "plt.show()"
   ]
  },
  {
   "cell_type": "markdown",
   "metadata": {},
   "source": [
    "We observe that for the training data, loss decreases to zero while accuracy increases to one, as a result of overfitting. This is why we also check how the model performs on the cross-validation data, for which we observe that loss increases with the number of epochs while accuracy remains relatively stable. Using this figure, we can select an “optimal” number of epochs such that accuracy is maximized while loss is minimized. Looking at the cross-validation data accuracy, we see that the accuracy peak lays at around 20 epochs, for which loss is approximately 0.4. However, similar accuracies but much lower losses and modelling time are achieved with around 6 and 12 epochs, and so we might rather choose to train our model with around 6 or 20 epochs.\n",
    "\n",
    "Regarding the model output, the predictions returned are probabilities per class or clothing category. We can calculate the majority vote by taking class that has the maximum of predicted probabilities of all classes. We can print the first ten elements of the majority_vote dictionary, which we can obtain as follows:"
   ]
  },
  {
   "cell_type": "code",
   "execution_count": 18,
   "metadata": {},
   "outputs": [
    {
     "name": "stdout",
     "output_type": "stream",
     "text": [
      "Prediction 0: 9\n",
      "Actual 0: 9\n",
      "Prediction 1: 2\n",
      "Actual 1: 2\n",
      "Prediction 2: 1\n",
      "Actual 2: 1\n",
      "Prediction 3: 1\n",
      "Actual 3: 1\n",
      "Prediction 4: 6\n",
      "Actual 4: 6\n",
      "Prediction 5: 1\n",
      "Actual 5: 1\n",
      "Prediction 6: 4\n",
      "Actual 6: 4\n",
      "Prediction 7: 6\n",
      "Actual 7: 6\n",
      "Prediction 8: 5\n",
      "Actual 8: 5\n",
      "Prediction 9: 7\n",
      "Actual 9: 7\n"
     ]
    }
   ],
   "source": [
    "# Calculate and print predictions versus actual labels\n",
    "predictions = three_layer_model.predict(test_images)\n",
    "for i in range(10):\n",
    "  print(\"Prediction \" + str(i) + \": \" + str(np.argmax(np.round(predictions[i]))))\n",
    "  print(\"Actual \" + str(i) + \": \" + str(test_labels[i]))"
   ]
  },
  {
   "cell_type": "markdown",
   "metadata": {},
   "source": [
    "All except the fifth (number 4) prediction are correct. In the fifth prediction, a shirt (category 6) is being misclassified as a top (category 0).\n",
    "\n",
    "# Convolutional Neural Network\n",
    "I also wanted to show you how to build a convolutional neural network and compare its performance to the neural networks presented earlier, mostly because convolutional neural networks have generally been shown to perform better on visual image data. Essentially, what happens in a convolutional neural network is that a smaller matrix (the “filter matrix” or “kernel”) slides over the full image matrix, moving pixel by pixel, multiplies the filter matrix with the part of the full image matrix covered by the filter matrix on that moment, sums up these values and then repeats this until the full image matrix has been covered. For a more extensive explanation on how convolutional neural networks, I refer you to this page or this page.\n",
    "\n",
    "As we need to prepare our data slightly differently for a convolutional neural network, we reload the data and reshape the images to “flatten” them. The last “1” in the reshape dimensions stand for a greyscale, as we have images on a black-to-white scale. If we would have RGB images, we would change the “1” into a “3”."
   ]
  },
  {
   "cell_type": "code",
   "execution_count": 19,
   "metadata": {},
   "outputs": [],
   "source": [
    "# Reload the data for a convolutional neural network\n",
    "(train_images, train_labels), (test_images, test_labels) = fashion_mnist.load_data()"
   ]
  },
  {
   "cell_type": "markdown",
   "metadata": {},
   "source": [
    "We make sure the the values of the pixels, ranging from zero to 255, are of the float type and then we normalize the values as before.\n",
    "\n"
   ]
  },
  {
   "cell_type": "code",
   "execution_count": 20,
   "metadata": {},
   "outputs": [],
   "source": [
    "# Reshape the data to the correct format (the last 1 stands for greyscale)\n",
    "train_images = train_images.reshape(60000, 28, 28, 1)\n",
    "test_images = test_images.reshape(10000, 28, 28, 1)"
   ]
  },
  {
   "cell_type": "code",
   "execution_count": 21,
   "metadata": {},
   "outputs": [],
   "source": [
    "# Convert the image data to numeric data and normalize them\n",
    "train_images = train_images.astype('float32')\n",
    "test_images = test_images.astype('float32')\n",
    "train_images = train_images / train_images.max()\n",
    "test_images = test_images / test_images.max()"
   ]
  },
  {
   "cell_type": "markdown",
   "metadata": {},
   "source": [
    "The convolutional neural network cannot deal with categorical labels. Therefore, we transform the labels to binary vectors, where all vectors have length ten (as there are ten categories), a “1” at the index of the category and zeros elsewhere. For example, category 3 and 8 would be coded as [0, 0, 0, 1, 0, 0, 0, 0, 0, 0] and [0, 0, 0, 0, 0, 0, 0, 0, 1, 0], respectively. This transformation is referred to as “one hot encoding”."
   ]
  },
  {
   "cell_type": "code",
   "execution_count": 22,
   "metadata": {},
   "outputs": [],
   "source": [
    "# One-hot encode the label data\n",
    "# Convert every number to a vector of the length of the number of categories\n",
    "# The vector has zero everywhere except a one on the position of the number it \n",
    "# represents. Example: 3 = [0 0 0 1 0 0 0 0 0 0]\n",
    "train_labels_bin = to_categorical(train_labels)\n",
    "test_labels_bin = to_categorical(test_labels)"
   ]
  },
  {
   "cell_type": "markdown",
   "metadata": {},
   "source": [
    "Now, we can start building our convolutional neural network. The first layer Conv2D is a convolutional layer that takes a 2-dimensional matrix of 28 by 28 pixels in greyscale (1) as input. As before, we use 128 nodes in this layer, as the size of the data is not extremely large and we want to avoid making our model unnecessarily complex. The filter matrix is of size 3 by 3, which is quite standard. As before, we use the rectified linear (“relu”) activation function. The MaxPooling2D layer reduces the dimensionality (and thus required computational power) by outputting the maximum of the part of the input image that is captured by the filter matrix. The Flatten layer simply flattens the result from the previous layer into a vector. As we saw before, the softmax layer then assigns predicted probabilities to each of the ten clothing categories. Note that we use the same optimizer and metric as before, but that we now use “categorical_crossentropy” as the loss function instead of “sparse_categorical_crossentropy”. The reason for this is that the former works for one-hot encoded labels, whereas the other works for categorical labels."
   ]
  },
  {
   "cell_type": "code",
   "execution_count": 23,
   "metadata": {},
   "outputs": [],
   "source": [
    "# Build a convolutional neural network with two convolutional layers\n",
    "conv_model = Sequential()\n",
    "conv_model.add(Conv2D(128, (3, 3), input_shape = (28, 28, 1)))\n",
    "conv_model.add(Activation('relu'))\n",
    "conv_model.add(MaxPooling2D(pool_size = (2, 2)))\n",
    "conv_model.add(Conv2D(128, (3, 3)))\n",
    "conv_model.add(Activation('relu'))\n",
    "conv_model.add(MaxPooling2D(pool_size = (2, 2)))\n",
    "conv_model.add(Flatten())\n",
    "conv_model.add(Dense(128))\n",
    "conv_model.add(Dense(10))\n",
    "conv_model.add(Activation('softmax'))"
   ]
  },
  {
   "cell_type": "markdown",
   "metadata": {},
   "source": [
    "We fit our model to the training data, where we set the batch_size argument equal to the number of neurons in the convolutional layers (= 128)."
   ]
  },
  {
   "cell_type": "code",
   "execution_count": 24,
   "metadata": {},
   "outputs": [
    {
     "name": "stdout",
     "output_type": "stream",
     "text": [
      "Epoch 1/10\n",
      " - 209s - loss: 0.4639 - acc: 0.8333\n",
      "Epoch 2/10\n",
      " - 208s - loss: 0.3025 - acc: 0.8910\n",
      "Epoch 3/10\n",
      " - 206s - loss: 0.2644 - acc: 0.9041\n",
      "Epoch 4/10\n",
      " - 206s - loss: 0.2345 - acc: 0.9148\n",
      "Epoch 5/10\n",
      " - 206s - loss: 0.2153 - acc: 0.9216\n",
      "Epoch 6/10\n",
      " - 207s - loss: 0.1937 - acc: 0.9295\n",
      "Epoch 7/10\n",
      " - 207s - loss: 0.1772 - acc: 0.9353\n",
      "Epoch 8/10\n",
      " - 208s - loss: 0.1599 - acc: 0.9425\n",
      "Epoch 9/10\n",
      " - 212s - loss: 0.1453 - acc: 0.9482\n",
      "Epoch 10/10\n",
      " - 204s - loss: 0.1328 - acc: 0.9501\n"
     ]
    },
    {
     "data": {
      "text/plain": [
       "<keras.callbacks.History at 0x1b36e917688>"
      ]
     },
     "execution_count": 24,
     "metadata": {},
     "output_type": "execute_result"
    }
   ],
   "source": [
    "# Compile and fit the model with adam optimizer and accuracy metric\n",
    "# Categorical cross-entropy is the loss function for one-hot encoded labels and\n",
    "# batch size equal to the number of neurons in the convolutional layers and 10 epochs\n",
    "conv_model.compile(loss = \"categorical_crossentropy\", \n",
    "                   optimizer = 'adam', metrics = ['accuracy'])\n",
    "conv_model.fit(train_images, train_labels_bin, batch_size = 128, \n",
    "               epochs = 10, verbose = 2)"
   ]
  },
  {
   "cell_type": "code",
   "execution_count": 25,
   "metadata": {},
   "outputs": [
    {
     "name": "stdout",
     "output_type": "stream",
     "text": [
      "10000/10000 [==============================] - 11s 1ms/step\n",
      "Convolutional model ten epochs -- Test loss: 29.167398313879968\n",
      "Convolutional model ten epochs -- Test accuracy: 90.7\n"
     ]
    }
   ],
   "source": [
    "# Compute and print the test loss and accuracy\n",
    "test_loss, test_acc = conv_model.evaluate(test_images, test_labels_bin)\n",
    "print(\"Convolutional model ten epochs -- Test loss:\", test_loss * 100)\n",
    "print(\"Convolutional model ten epochs -- Test accuracy:\", test_acc * 100)"
   ]
  },
  {
   "cell_type": "markdown",
   "metadata": {},
   "source": [
    "Although we are still overfitting, we observe that the convolutional neural network performs better than the neural networks we saw earlier, achieving a training set accuracy of 95.16% and a test set accuracy of 90.39%, and a lower loss of 28.70. This was to be expected, because convolutional neural networks have previously been shown to perform well on visual imagery data. Let’s see if we can reduce overfitting by reducing the number of neurons from 128 to 64, adding dropout layers and enabling early stopping. Note that the rate in the Dropout layer is the percentage of connections between layers that are being removed. the SpatialDropout2D is a special kind of dropout layer for convolutional neural networks, which drops certain multiplications of the filter matrix with parts of the original image before pooling across all movements over the original image.\n",
    "\n"
   ]
  },
  {
   "cell_type": "code",
   "execution_count": 26,
   "metadata": {},
   "outputs": [
    {
     "name": "stdout",
     "output_type": "stream",
     "text": [
      "WARNING:tensorflow:From C:\\Users\\ptjos\\Anaconda3\\lib\\site-packages\\keras\\backend\\tensorflow_backend.py:3445: calling dropout (from tensorflow.python.ops.nn_ops) with keep_prob is deprecated and will be removed in a future version.\n",
      "Instructions for updating:\n",
      "Please use `rate` instead of `keep_prob`. Rate should be set to `rate = 1 - keep_prob`.\n"
     ]
    }
   ],
   "source": [
    "# Build a convolutional neural network with two convolutional layers\n",
    "# Decrease number of neurons and add dropout to reduce overfitting\n",
    "conv_model_reduce_overfit = Sequential()\n",
    "conv_model_reduce_overfit.add(Conv2D(64, (3, 3), input_shape = (28, 28, 1)))\n",
    "conv_model_reduce_overfit.add(Activation('relu'))\n",
    "conv_model_reduce_overfit.add(MaxPooling2D(pool_size = (2, 2)))\n",
    "conv_model_reduce_overfit.add(Dropout(0.5))\n",
    "conv_model_reduce_overfit.add(Conv2D(64, (3, 3)))\n",
    "conv_model_reduce_overfit.add(SpatialDropout2D(0.5))\n",
    "conv_model_reduce_overfit.add(Activation('relu'))\n",
    "conv_model_reduce_overfit.add(MaxPooling2D(pool_size = (2, 2)))\n",
    "conv_model_reduce_overfit.add(Flatten())\n",
    "conv_model_reduce_overfit.add(Dense(64))\n",
    "conv_model_reduce_overfit.add(Dropout(0.5))\n",
    "conv_model_reduce_overfit.add(Dense(10))\n",
    "conv_model_reduce_overfit.add(Activation('softmax'))"
   ]
  },
  {
   "cell_type": "markdown",
   "metadata": {},
   "source": [
    "When fitting our model, we also enable early stopping to reduce overfitting. Instead of going through all epochs specified, early stopping automatically stops the iterations through the epoch once it’s being noticed that the validation loss increases."
   ]
  },
  {
   "cell_type": "code",
   "execution_count": 27,
   "metadata": {},
   "outputs": [
    {
     "name": "stdout",
     "output_type": "stream",
     "text": [
      "Train on 42000 samples, validate on 18000 samples\n",
      "Epoch 1/10\n",
      " - 81s - loss: 0.7721 - acc: 0.7258 - val_loss: 0.4541 - val_acc: 0.8372\n",
      "Epoch 2/10\n",
      " - 80s - loss: 0.5176 - acc: 0.8179 - val_loss: 0.3976 - val_acc: 0.8557\n",
      "Epoch 3/10\n",
      " - 80s - loss: 0.4587 - acc: 0.8387 - val_loss: 0.3620 - val_acc: 0.8674\n",
      "Epoch 4/10\n",
      " - 79s - loss: 0.4275 - acc: 0.8484 - val_loss: 0.3414 - val_acc: 0.8759\n",
      "Epoch 5/10\n",
      " - 79s - loss: 0.4074 - acc: 0.8572 - val_loss: 0.3250 - val_acc: 0.8837\n",
      "Epoch 6/10\n",
      " - 80s - loss: 0.3935 - acc: 0.8606 - val_loss: 0.3122 - val_acc: 0.8874\n",
      "Epoch 7/10\n",
      " - 79s - loss: 0.3836 - acc: 0.8650 - val_loss: 0.3030 - val_acc: 0.8889\n",
      "Epoch 8/10\n",
      " - 78s - loss: 0.3722 - acc: 0.8674 - val_loss: 0.3009 - val_acc: 0.8906\n",
      "Epoch 9/10\n",
      " - 77s - loss: 0.3678 - acc: 0.8707 - val_loss: 0.2890 - val_acc: 0.8958\n",
      "Epoch 10/10\n",
      " - 78s - loss: 0.3625 - acc: 0.8710 - val_loss: 0.2894 - val_acc: 0.8940\n"
     ]
    },
    {
     "data": {
      "text/plain": [
       "<keras.callbacks.History at 0x1b31958c9c8>"
      ]
     },
     "execution_count": 27,
     "metadata": {},
     "output_type": "execute_result"
    }
   ],
   "source": [
    "# Compile and fit the model with adam optimizer and accuracy metric\n",
    "# Categorical cross-entropy is the loss function for one-hot encoded labels and\n",
    "# batch size equal to the number of neurons in the convolutional layers and 10 epochs\n",
    "# Add early stopping to avoid overfitting\n",
    "conv_model_reduce_overfit.compile(loss = \"categorical_crossentropy\", \n",
    "                   optimizer = 'adam', metrics = ['accuracy'])\n",
    "conv_callback = keras.callbacks.EarlyStopping(monitor = 'val_loss', patience = 3)\n",
    "conv_model_reduce_overfit.fit(train_images, train_labels_bin, validation_split = 0.3,\n",
    "               epochs = 10, verbose = 2, callbacks = [conv_callback], batch_size = 64)"
   ]
  },
  {
   "cell_type": "code",
   "execution_count": 28,
   "metadata": {},
   "outputs": [
    {
     "name": "stdout",
     "output_type": "stream",
     "text": [
      "10000/10000 [==============================] - 5s 533us/step\n",
      "Convolutional model ten epochs reduced overfit -- Test loss: 30.907997370958327\n",
      "Convolutional model ten epochs reduced overfit -- Test accuracy: 88.84\n"
     ]
    }
   ],
   "source": [
    "# Compute and print the test loss and accuracy\n",
    "test_loss, test_acc = conv_model_reduce_overfit.evaluate(test_images, test_labels_bin)\n",
    "print(\"Convolutional model ten epochs reduced overfit -- Test loss:\", test_loss * 100)\n",
    "print(\"Convolutional model ten epochs reduced overfit -- Test accuracy:\", test_acc * 100)"
   ]
  },
  {
   "cell_type": "markdown",
   "metadata": {},
   "source": [
    "From the results, we observe that although the training and test accuracies have decreased, they are now much more similar than before. The test accuracy has not decreased substantially, but the training accuracy has, which means that overfitting is much less of a problem than before. Next, we can print the first ten predictions from the model and the first ten actual labels and compare them."
   ]
  },
  {
   "cell_type": "code",
   "execution_count": 29,
   "metadata": {},
   "outputs": [
    {
     "name": "stdout",
     "output_type": "stream",
     "text": [
      "Prediction 0: 9\n",
      "Actual 0: 9\n",
      "Prediction 1: 2\n",
      "Actual 1: 2\n",
      "Prediction 2: 1\n",
      "Actual 2: 1\n",
      "Prediction 3: 1\n",
      "Actual 3: 1\n",
      "Prediction 4: 6\n",
      "Actual 4: 6\n",
      "Prediction 5: 1\n",
      "Actual 5: 1\n",
      "Prediction 6: 4\n",
      "Actual 6: 4\n",
      "Prediction 7: 6\n",
      "Actual 7: 6\n",
      "Prediction 8: 5\n",
      "Actual 8: 5\n",
      "Prediction 9: 7\n",
      "Actual 9: 7\n"
     ]
    }
   ],
   "source": [
    "# Calculate and print predictions versus actual labels\n",
    "predictions = conv_model_reduce_overfit.predict(test_images)\n",
    "for i in range(10):\n",
    "  print(\"Prediction \" + str(i) + \": \" + str(np.argmax(np.round(predictions[i]))))\n",
    "  print(\"Actual \" + str(i) + \": \" + str(test_labels[i]))"
   ]
  },
  {
   "cell_type": "markdown",
   "metadata": {},
   "source": [
    "Comparing these predictions to the first ten labels in the data set, we observe that the first ten predictions are correct!"
   ]
  },
  {
   "cell_type": "code",
   "execution_count": null,
   "metadata": {},
   "outputs": [],
   "source": []
  }
 ],
 "metadata": {
  "kernelspec": {
   "display_name": "Python 3",
   "language": "python",
   "name": "python3"
  },
  "language_info": {
   "codemirror_mode": {
    "name": "ipython",
    "version": 3
   },
   "file_extension": ".py",
   "mimetype": "text/x-python",
   "name": "python",
   "nbconvert_exporter": "python",
   "pygments_lexer": "ipython3",
   "version": "3.7.4"
  }
 },
 "nbformat": 4,
 "nbformat_minor": 2
}
