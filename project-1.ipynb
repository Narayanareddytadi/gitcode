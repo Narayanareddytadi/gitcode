{
 "cells": [
  {
   "cell_type": "markdown",
   "metadata": {},
   "source": [
    "import the libraries in this code we don't need to prepare the data and training the model here we can load the pre-trained model "
   ]
  },
  {
   "cell_type": "code",
   "execution_count": 1,
   "metadata": {},
   "outputs": [],
   "source": [
    "import cv2\n",
    "import os\n",
    "import numpy as np"
   ]
  },
  {
   "cell_type": "markdown",
   "metadata": {},
   "source": [
    "load the image recognizing model "
   ]
  },
  {
   "cell_type": "code",
   "execution_count": 2,
   "metadata": {},
   "outputs": [],
   "source": [
    "face_recognizer = cv2.face.LBPHFaceRecognizer_create()\n",
    "face_recognizer.read('trainData.yml')"
   ]
  },
  {
   "cell_type": "markdown",
   "metadata": {},
   "source": [
    "subject images "
   ]
  },
  {
   "cell_type": "code",
   "execution_count": 3,
   "metadata": {},
   "outputs": [],
   "source": [
    "subjects = [\"\",\"ab\",\"bhumra\",\"bindu\",\"chahal\",\"chiru\",\"dhawan\",\"dhoni\",\"gayle\",\"indu\",\"koti\",\"narayana\",\"prabhas\",\"rajini\",\"rana\",\"ravi\",\"redd\",\"rohit\",\"sachin\",\"samar\",\"siva\",\"surya\",\"velu\",\"venkey\",\"vk\"]"
   ]
  },
  {
   "cell_type": "markdown",
   "metadata": {},
   "source": [
    "function to draw the rectangle values"
   ]
  },
  {
   "cell_type": "code",
   "execution_count": 4,
   "metadata": {},
   "outputs": [],
   "source": [
    "def draw_rectangle(img, rect):\n",
    "    (x, y, w, h) = rect\n",
    "    cv2.rectangle(img, (x, y), (x+w, y+h), (0, 255, 0), 2)"
   ]
  },
  {
   "cell_type": "markdown",
   "metadata": {},
   "source": [
    "function to draw the text"
   ]
  },
  {
   "cell_type": "code",
   "execution_count": 5,
   "metadata": {},
   "outputs": [],
   "source": [
    "def draw_text(img, text, x, y):\n",
    "    cv2.putText(img, text, (x, y), cv2.FONT_HERSHEY_PLAIN, 1.5, (0, 255, 0), 2)\n"
   ]
  },
  {
   "cell_type": "markdown",
   "metadata": {},
   "source": [
    "detect the faces"
   ]
  },
  {
   "cell_type": "code",
   "execution_count": 6,
   "metadata": {},
   "outputs": [],
   "source": [
    "def detect_face(img):\n",
    "    gray = cv2.cvtColor(img, cv2.COLOR_BGR2GRAY)\n",
    "    face_cascade = cv2.CascadeClassifier('haarcascade_frontalface_default.xml')\n",
    "    faces = face_cascade.detectMultiScale(gray, scaleFactor=1.3, minNeighbors=5);\n",
    "    if (len(faces) == 0):\n",
    "        return None, None\n",
    "    (x, y, w, h) = faces[0]\n",
    "    return gray[y:y+w, x:x+h], faces[0]\n",
    "    "
   ]
  },
  {
   "cell_type": "markdown",
   "metadata": {},
   "source": [
    "function to predict the image"
   ]
  },
  {
   "cell_type": "code",
   "execution_count": 7,
   "metadata": {},
   "outputs": [],
   "source": [
    "def predict(test_img):\n",
    "    img = test_img.copy()\n",
    "    face, rect = detect_face(img) \n",
    "    label= face_recognizer.predict(face)\n",
    "    #print(\"confidence\",confidence)\n",
    "    label_text = subjects[np.array(label[0])]\n",
    "    draw_rectangle(img, rect)\n",
    "    draw_text(img, label_text, rect[0], rect[1]-5)\n",
    "    return img"
   ]
  },
  {
   "cell_type": "markdown",
   "metadata": {},
   "source": [
    "load the files into the variables"
   ]
  },
  {
   "cell_type": "code",
   "execution_count": 8,
   "metadata": {},
   "outputs": [],
   "source": [
    "test_img1 = cv2.imread('C:/Users/ntadi/Desktop/New folder (2)/test/vk-1.jfif')\n",
    "test_img2 = cv2.imread('C:/Users/ntadi/Desktop/New folder (2)/test/narayana2.jpeg')\n",
    "test_img3=cv2.imread('C:/Users/ntadi/Desktop/New folder (2)/test/tnr.jpeg')\n",
    "test_img4=cv2.imread('C:/Users/ntadi/Desktop/New folder (2)/test/venkey-1.jpeg')\n",
    "test_img5=cv2.imread('C:/Users/ntadi/Desktop/New folder (2)/test/bindu-2.jpeg')\n",
    "test_img6=cv2.imread('C:/Users/ntadi/Desktop/New folder (2)/test/redd-2.jpeg')\n",
    "test_img7=cv2.imread('C:/Users/ntadi/Desktop/New folder (2)/test/indu.jpeg')\n",
    "test_img8=cv2.imread('C:/Users/ntadi/Desktop/New folder (2)/test/vk-2.jpeg')"
   ]
  },
  {
   "cell_type": "markdown",
   "metadata": {},
   "source": [
    "predict the images "
   ]
  },
  {
   "cell_type": "code",
   "execution_count": 9,
   "metadata": {},
   "outputs": [
    {
     "name": "stdout",
     "output_type": "stream",
     "text": [
      "Prediction complete\n"
     ]
    }
   ],
   "source": [
    "predicted_img1 = predict(test_img1)\n",
    "predicted_img2 = predict(test_img2)\n",
    "predicted_img3=predict(test_img3)\n",
    "predicted_img4=predict(test_img4)\n",
    "predicted_img5=predict(test_img5)\n",
    "predicted_img6=predict(test_img6)\n",
    "predicted_img7=predict(test_img7)\n",
    "predicted_img8=predict(test_img8)\n",
    "print(\"Prediction complete\")"
   ]
  },
  {
   "cell_type": "markdown",
   "metadata": {},
   "source": [
    "show the predicted image"
   ]
  },
  {
   "cell_type": "code",
   "execution_count": 10,
   "metadata": {},
   "outputs": [],
   "source": [
    "cv2.imshow(subjects[0], predicted_img1)\n",
    "cv2.imshow(subjects[1], predicted_img2)\n",
    "cv2.imshow(subjects[2], predicted_img3)\n",
    "cv2.imshow(subjects[3], predicted_img4)\n",
    "cv2.imshow(subjects[4], predicted_img5)\n",
    "cv2.imshow(subjects[5], predicted_img6)\n",
    "cv2.imshow(subjects[6], predicted_img7)\n",
    "cv2.imshow(subjects[8], predicted_img8)\n",
    "cv2.waitKey(0)\n",
    "cv2.destroyAllWindows()"
   ]
  },
  {
   "cell_type": "code",
   "execution_count": null,
   "metadata": {},
   "outputs": [],
   "source": []
  }
 ],
 "metadata": {
  "kernelspec": {
   "display_name": "Python 3",
   "language": "python",
   "name": "python3"
  },
  "language_info": {
   "codemirror_mode": {
    "name": "ipython",
    "version": 3
   },
   "file_extension": ".py",
   "mimetype": "text/x-python",
   "name": "python",
   "nbconvert_exporter": "python",
   "pygments_lexer": "ipython3",
   "version": "3.7.4"
  }
 },
 "nbformat": 4,
 "nbformat_minor": 2
}
